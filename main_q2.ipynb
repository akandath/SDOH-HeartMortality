{
 "cells": [
  {
   "cell_type": "markdown",
   "id": "12bfeaa2-5413-4203-b28f-52a29d726d58",
   "metadata": {},
   "source": [
    "# Question 2: Diabetes Analysis using SDOH"
   ]
  },
  {
   "cell_type": "code",
   "execution_count": 44,
   "id": "2e379da5-e35f-4f27-b080-6591b936426a",
   "metadata": {
    "tags": []
   },
   "outputs": [
    {
     "name": "stdout",
     "output_type": "stream",
     "text": [
      "Requirement already satisfied: imblearn in /Users/sivak/anaconda3/lib/python3.11/site-packages (0.0)\n",
      "Requirement already satisfied: imbalanced-learn in /Users/sivak/anaconda3/lib/python3.11/site-packages (from imblearn) (0.12.0)\n",
      "Requirement already satisfied: numpy>=1.17.3 in /Users/sivak/anaconda3/lib/python3.11/site-packages (from imbalanced-learn->imblearn) (1.24.3)\n",
      "Requirement already satisfied: scipy>=1.5.0 in /Users/sivak/anaconda3/lib/python3.11/site-packages (from imbalanced-learn->imblearn) (1.12.0)\n",
      "Requirement already satisfied: scikit-learn>=1.0.2 in /Users/sivak/anaconda3/lib/python3.11/site-packages (from imbalanced-learn->imblearn) (1.4.1.post1)\n",
      "Requirement already satisfied: joblib>=1.1.1 in /Users/sivak/anaconda3/lib/python3.11/site-packages (from imbalanced-learn->imblearn) (1.3.2)\n",
      "Requirement already satisfied: threadpoolctl>=2.0.0 in /Users/sivak/anaconda3/lib/python3.11/site-packages (from imbalanced-learn->imblearn) (3.3.0)\n"
     ]
    }
   ],
   "source": [
    "!pip install imblearn"
   ]
  },
  {
   "cell_type": "code",
   "execution_count": 50,
   "id": "fc4cacf8-de53-4184-83ae-82d0f8ad4bc4",
   "metadata": {
    "tags": []
   },
   "outputs": [],
   "source": [
    "# importing relevant libraries\n",
    "import numpy as np\n",
    "import pandas as pd\n",
    "import seaborn as sns\n",
    "from matplotlib import pyplot as plt\n",
    "import warnings\n",
    "%matplotlib inline\n",
    "\n",
    "# Importing preprocessing and modeling libraries\n",
    "from sklearn.preprocessing import StandardScaler, OneHotEncoder, LabelEncoder\n",
    "from sklearn.compose import ColumnTransformer\n",
    "from sklearn import neighbors\n",
    "from sklearn import tree\n",
    "from sklearn.pipeline import Pipeline\n",
    "\n",
    "\n",
    "# Importing metrics for model evaluation\n",
    "from sklearn.metrics import confusion_matrix, classification_report, ConfusionMatrixDisplay, roc_auc_score\n",
    "from sklearn.metrics import recall_score, precision_score\n",
    "from sklearn.model_selection import train_test_split, cross_val_score, GridSearchCV\n",
    "from sklearn import metrics\n",
    "from sklearn.decomposition import PCA\n",
    "from sklearn.metrics import accuracy_score\n",
    "\n",
    "\n",
    "# # Importing class balance tools for handling imbalanced datasets\n",
    "from imblearn.under_sampling import RandomUnderSampler, TomekLinks\n",
    "from imblearn.pipeline import Pipeline as ImbPipeline\n",
    "from yellowbrick.target import ClassBalance\n",
    "from imblearn.over_sampling import SMOTE\n",
    "from collections import Counter\n",
    "\n",
    "# Importing classifier models\n",
    "from sklearn.naive_bayes import GaussianNB\n",
    "from sklearn.neighbors import KNeighborsClassifier\n",
    "from sklearn.linear_model import LogisticRegression\n",
    "from sklearn.ensemble import RandomForestClassifier\n",
    "from sklearn.ensemble import AdaBoostClassifier\n",
    "from xgboost import XGBClassifier"
   ]
  },
  {
   "cell_type": "code",
   "execution_count": 46,
   "id": "f6fa430c-9553-4971-ac36-132f47eb3735",
   "metadata": {
    "tags": []
   },
   "outputs": [],
   "source": [
    "# Setting the seed. Do not change.\n",
    "seed = 10"
   ]
  },
  {
   "cell_type": "markdown",
   "id": "f34ea339-8b23-4ea8-9948-f90f91e163d4",
   "metadata": {},
   "source": [
    "## Part 1: Data Pre-processing"
   ]
  },
  {
   "cell_type": "code",
   "execution_count": 9,
   "id": "8272f301-972d-4213-a4c6-e5da62bb4542",
   "metadata": {
    "tags": []
   },
   "outputs": [
    {
     "data": {
      "text/html": [
       "<div>\n",
       "<style scoped>\n",
       "    .dataframe tbody tr th:only-of-type {\n",
       "        vertical-align: middle;\n",
       "    }\n",
       "\n",
       "    .dataframe tbody tr th {\n",
       "        vertical-align: top;\n",
       "    }\n",
       "\n",
       "    .dataframe thead th {\n",
       "        text-align: right;\n",
       "    }\n",
       "</style>\n",
       "<table border=\"1\" class=\"dataframe\">\n",
       "  <thead>\n",
       "    <tr style=\"text-align: right;\">\n",
       "      <th></th>\n",
       "      <th>Domain</th>\n",
       "      <th>SDOH Topic</th>\n",
       "      <th>Variable Name</th>\n",
       "      <th>Variable Label</th>\n",
       "      <th>Data Source</th>\n",
       "      <th>Type of Data (Numeric or Character)</th>\n",
       "      <th>SAS Length</th>\n",
       "      <th>SAS Character</th>\n",
       "      <th>Position on the file</th>\n",
       "    </tr>\n",
       "  </thead>\n",
       "  <tbody>\n",
       "    <tr>\n",
       "      <th>0</th>\n",
       "      <td>Identifier</td>\n",
       "      <td>NaN</td>\n",
       "      <td>YEAR</td>\n",
       "      <td>SDOH file year</td>\n",
       "      <td>NaN</td>\n",
       "      <td>num</td>\n",
       "      <td>4</td>\n",
       "      <td>4.</td>\n",
       "      <td>1</td>\n",
       "    </tr>\n",
       "    <tr>\n",
       "      <th>1</th>\n",
       "      <td>6. Geography</td>\n",
       "      <td>NaN</td>\n",
       "      <td>COUNTYFIPS</td>\n",
       "      <td>State-county FIPS Code (5-digit)</td>\n",
       "      <td>NaN</td>\n",
       "      <td>char</td>\n",
       "      <td>5</td>\n",
       "      <td>$5.</td>\n",
       "      <td>2</td>\n",
       "    </tr>\n",
       "    <tr>\n",
       "      <th>2</th>\n",
       "      <td>6. Geography</td>\n",
       "      <td>NaN</td>\n",
       "      <td>STATEFIPS</td>\n",
       "      <td>State FIPS Code (2-digit)</td>\n",
       "      <td>NaN</td>\n",
       "      <td>char</td>\n",
       "      <td>2</td>\n",
       "      <td>$2.</td>\n",
       "      <td>3</td>\n",
       "    </tr>\n",
       "    <tr>\n",
       "      <th>3</th>\n",
       "      <td>6. Geography</td>\n",
       "      <td>NaN</td>\n",
       "      <td>STATE</td>\n",
       "      <td>State name</td>\n",
       "      <td>NaN</td>\n",
       "      <td>char</td>\n",
       "      <td>25</td>\n",
       "      <td>$25.</td>\n",
       "      <td>4</td>\n",
       "    </tr>\n",
       "    <tr>\n",
       "      <th>4</th>\n",
       "      <td>6. Geography</td>\n",
       "      <td>NaN</td>\n",
       "      <td>COUNTY</td>\n",
       "      <td>County name</td>\n",
       "      <td>NaN</td>\n",
       "      <td>char</td>\n",
       "      <td>75</td>\n",
       "      <td>$75.</td>\n",
       "      <td>5</td>\n",
       "    </tr>\n",
       "  </tbody>\n",
       "</table>\n",
       "</div>"
      ],
      "text/plain": [
       "         Domain SDOH Topic Variable Name                    Variable Label  \\\n",
       "0    Identifier        NaN          YEAR                    SDOH file year   \n",
       "1  6. Geography        NaN    COUNTYFIPS  State-county FIPS Code (5-digit)   \n",
       "2  6. Geography        NaN     STATEFIPS         State FIPS Code (2-digit)   \n",
       "3  6. Geography        NaN         STATE                        State name   \n",
       "4  6. Geography        NaN        COUNTY                       County name   \n",
       "\n",
       "  Data Source Type of Data (Numeric or Character)  SAS Length SAS Character  \\\n",
       "0         NaN                                 num           4            4.   \n",
       "1         NaN                                char           5           $5.   \n",
       "2         NaN                                char           2           $2.   \n",
       "3         NaN                                char          25          $25.   \n",
       "4         NaN                                char          75          $75.   \n",
       "\n",
       "   Position on the file  \n",
       "0                     1  \n",
       "1                     2  \n",
       "2                     3  \n",
       "3                     4  \n",
       "4                     5  "
      ]
     },
     "execution_count": 9,
     "metadata": {},
     "output_type": "execute_result"
    }
   ],
   "source": [
    "file_path = 'sdoh_FINAL.csv'\n",
    "sdoh_data = pd.read_csv(file_path)\n",
    "\n",
    "# Load the codebook\n",
    "codebook_path = 'SDOH_2017_Codebook_County.xlsx'\n",
    "sdoh_codebook = pd.read_excel(codebook_path)\n",
    "\n",
    "# Display the first few rows of the dataset and the codebook\n",
    "sdoh_codebook.head()"
   ]
  },
  {
   "cell_type": "code",
   "execution_count": 11,
   "id": "dd01c7b7-1d17-4efc-b2d3-c895d7d1e6b3",
   "metadata": {
    "tags": []
   },
   "outputs": [
    {
     "data": {
      "text/html": [
       "<div>\n",
       "<style scoped>\n",
       "    .dataframe tbody tr th:only-of-type {\n",
       "        vertical-align: middle;\n",
       "    }\n",
       "\n",
       "    .dataframe tbody tr th {\n",
       "        vertical-align: top;\n",
       "    }\n",
       "\n",
       "    .dataframe thead th {\n",
       "        text-align: right;\n",
       "    }\n",
       "</style>\n",
       "<table border=\"1\" class=\"dataframe\">\n",
       "  <thead>\n",
       "    <tr style=\"text-align: right;\">\n",
       "      <th></th>\n",
       "      <th>YEAR</th>\n",
       "      <th>REGION</th>\n",
       "      <th>TERRITORY</th>\n",
       "      <th>ACS_TOT_POP_WT</th>\n",
       "      <th>ACS_TOT_POP_US_ABOVE1</th>\n",
       "      <th>ACS_TOT_POP_ABOVE5</th>\n",
       "      <th>ACS_TOT_POP_ABOVE15</th>\n",
       "      <th>ACS_TOT_POP_ABOVE16</th>\n",
       "      <th>ACS_TOT_POP_16_19</th>\n",
       "      <th>ACS_TOT_POP_ABOVE25</th>\n",
       "      <th>...</th>\n",
       "      <th>POS_HOSP_PSYCH_RATE</th>\n",
       "      <th>POS_TOT_HOSP_AMBULANCE</th>\n",
       "      <th>POS_HOSP_AMBULANCE_RATE</th>\n",
       "      <th>POS_TOT_HOSP_CHEMO</th>\n",
       "      <th>POS_HOSP_CHEMO_RATE</th>\n",
       "      <th>POS_TOT_HOSP_ED</th>\n",
       "      <th>POS_HOSP_ED_RATE</th>\n",
       "      <th>POS_PCT_HOSP_FOR_PROFIT</th>\n",
       "      <th>POS_PCT_HOSP_NON_PROFIT</th>\n",
       "      <th>POS_PCT_HOSP_GOV</th>\n",
       "    </tr>\n",
       "  </thead>\n",
       "  <tbody>\n",
       "    <tr>\n",
       "      <th>0</th>\n",
       "      <td>2017</td>\n",
       "      <td>South</td>\n",
       "      <td>0</td>\n",
       "      <td>55036.0</td>\n",
       "      <td>54293.0</td>\n",
       "      <td>51898.0</td>\n",
       "      <td>44109.0</td>\n",
       "      <td>42974.0</td>\n",
       "      <td>2746.0</td>\n",
       "      <td>36757.0</td>\n",
       "      <td>...</td>\n",
       "      <td>0.0</td>\n",
       "      <td>0.0</td>\n",
       "      <td>0.00</td>\n",
       "      <td>0.0</td>\n",
       "      <td>0.00</td>\n",
       "      <td>1.0</td>\n",
       "      <td>0.02</td>\n",
       "      <td>50.00</td>\n",
       "      <td>38.89</td>\n",
       "      <td>11.11</td>\n",
       "    </tr>\n",
       "    <tr>\n",
       "      <th>1</th>\n",
       "      <td>2017</td>\n",
       "      <td>South</td>\n",
       "      <td>0</td>\n",
       "      <td>203360.0</td>\n",
       "      <td>201089.0</td>\n",
       "      <td>191854.0</td>\n",
       "      <td>166364.0</td>\n",
       "      <td>163759.0</td>\n",
       "      <td>10031.0</td>\n",
       "      <td>143022.0</td>\n",
       "      <td>...</td>\n",
       "      <td>0.0</td>\n",
       "      <td>0.0</td>\n",
       "      <td>0.00</td>\n",
       "      <td>0.0</td>\n",
       "      <td>0.00</td>\n",
       "      <td>3.0</td>\n",
       "      <td>0.01</td>\n",
       "      <td>63.49</td>\n",
       "      <td>36.51</td>\n",
       "      <td>0.00</td>\n",
       "    </tr>\n",
       "    <tr>\n",
       "      <th>2</th>\n",
       "      <td>2017</td>\n",
       "      <td>South</td>\n",
       "      <td>0</td>\n",
       "      <td>26201.0</td>\n",
       "      <td>25925.0</td>\n",
       "      <td>24765.0</td>\n",
       "      <td>21627.0</td>\n",
       "      <td>21241.0</td>\n",
       "      <td>1071.0</td>\n",
       "      <td>18434.0</td>\n",
       "      <td>...</td>\n",
       "      <td>0.0</td>\n",
       "      <td>0.0</td>\n",
       "      <td>0.00</td>\n",
       "      <td>0.0</td>\n",
       "      <td>0.00</td>\n",
       "      <td>1.0</td>\n",
       "      <td>0.04</td>\n",
       "      <td>73.33</td>\n",
       "      <td>20.00</td>\n",
       "      <td>6.67</td>\n",
       "    </tr>\n",
       "    <tr>\n",
       "      <th>3</th>\n",
       "      <td>2017</td>\n",
       "      <td>South</td>\n",
       "      <td>0</td>\n",
       "      <td>22580.0</td>\n",
       "      <td>22224.0</td>\n",
       "      <td>21301.0</td>\n",
       "      <td>18743.0</td>\n",
       "      <td>18415.0</td>\n",
       "      <td>1137.0</td>\n",
       "      <td>15859.0</td>\n",
       "      <td>...</td>\n",
       "      <td>0.0</td>\n",
       "      <td>1.0</td>\n",
       "      <td>0.04</td>\n",
       "      <td>1.0</td>\n",
       "      <td>0.04</td>\n",
       "      <td>1.0</td>\n",
       "      <td>0.04</td>\n",
       "      <td>27.27</td>\n",
       "      <td>45.45</td>\n",
       "      <td>27.27</td>\n",
       "    </tr>\n",
       "    <tr>\n",
       "      <th>4</th>\n",
       "      <td>2017</td>\n",
       "      <td>South</td>\n",
       "      <td>0</td>\n",
       "      <td>57667.0</td>\n",
       "      <td>57088.0</td>\n",
       "      <td>54171.0</td>\n",
       "      <td>46501.0</td>\n",
       "      <td>45924.0</td>\n",
       "      <td>3224.0</td>\n",
       "      <td>39475.0</td>\n",
       "      <td>...</td>\n",
       "      <td>0.0</td>\n",
       "      <td>0.0</td>\n",
       "      <td>0.00</td>\n",
       "      <td>0.0</td>\n",
       "      <td>0.00</td>\n",
       "      <td>1.0</td>\n",
       "      <td>0.02</td>\n",
       "      <td>60.00</td>\n",
       "      <td>40.00</td>\n",
       "      <td>0.00</td>\n",
       "    </tr>\n",
       "  </tbody>\n",
       "</table>\n",
       "<p>5 rows × 842 columns</p>\n",
       "</div>"
      ],
      "text/plain": [
       "   YEAR REGION  TERRITORY  ACS_TOT_POP_WT  ACS_TOT_POP_US_ABOVE1  \\\n",
       "0  2017  South          0         55036.0                54293.0   \n",
       "1  2017  South          0        203360.0               201089.0   \n",
       "2  2017  South          0         26201.0                25925.0   \n",
       "3  2017  South          0         22580.0                22224.0   \n",
       "4  2017  South          0         57667.0                57088.0   \n",
       "\n",
       "   ACS_TOT_POP_ABOVE5  ACS_TOT_POP_ABOVE15  ACS_TOT_POP_ABOVE16  \\\n",
       "0             51898.0              44109.0              42974.0   \n",
       "1            191854.0             166364.0             163759.0   \n",
       "2             24765.0              21627.0              21241.0   \n",
       "3             21301.0              18743.0              18415.0   \n",
       "4             54171.0              46501.0              45924.0   \n",
       "\n",
       "   ACS_TOT_POP_16_19  ACS_TOT_POP_ABOVE25  ...  POS_HOSP_PSYCH_RATE  \\\n",
       "0             2746.0              36757.0  ...                  0.0   \n",
       "1            10031.0             143022.0  ...                  0.0   \n",
       "2             1071.0              18434.0  ...                  0.0   \n",
       "3             1137.0              15859.0  ...                  0.0   \n",
       "4             3224.0              39475.0  ...                  0.0   \n",
       "\n",
       "   POS_TOT_HOSP_AMBULANCE  POS_HOSP_AMBULANCE_RATE  POS_TOT_HOSP_CHEMO  \\\n",
       "0                     0.0                     0.00                 0.0   \n",
       "1                     0.0                     0.00                 0.0   \n",
       "2                     0.0                     0.00                 0.0   \n",
       "3                     1.0                     0.04                 1.0   \n",
       "4                     0.0                     0.00                 0.0   \n",
       "\n",
       "   POS_HOSP_CHEMO_RATE  POS_TOT_HOSP_ED  POS_HOSP_ED_RATE  \\\n",
       "0                 0.00              1.0              0.02   \n",
       "1                 0.00              3.0              0.01   \n",
       "2                 0.00              1.0              0.04   \n",
       "3                 0.04              1.0              0.04   \n",
       "4                 0.00              1.0              0.02   \n",
       "\n",
       "   POS_PCT_HOSP_FOR_PROFIT  POS_PCT_HOSP_NON_PROFIT  POS_PCT_HOSP_GOV  \n",
       "0                    50.00                    38.89             11.11  \n",
       "1                    63.49                    36.51              0.00  \n",
       "2                    73.33                    20.00              6.67  \n",
       "3                    27.27                    45.45             27.27  \n",
       "4                    60.00                    40.00              0.00  \n",
       "\n",
       "[5 rows x 842 columns]"
      ]
     },
     "execution_count": 11,
     "metadata": {},
     "output_type": "execute_result"
    }
   ],
   "source": [
    "sdoh_data.head()"
   ]
  },
  {
   "cell_type": "markdown",
   "id": "2a41f2bf-ec17-4427-8c8f-7795bf2abd7c",
   "metadata": {},
   "source": [
    "> The dataset contains 842 columns and 3226 entries with Null values handled earlier."
   ]
  },
  {
   "cell_type": "markdown",
   "id": "10b2d94b-9090-4a9c-8338-66d21afb5917",
   "metadata": {},
   "source": [
    "### Checking for Missing Values"
   ]
  },
  {
   "cell_type": "code",
   "execution_count": 15,
   "id": "0d538eb9-46a9-4761-a0ef-fada6e7cea64",
   "metadata": {
    "tags": []
   },
   "outputs": [
    {
     "data": {
      "text/plain": [
       "Series([], dtype: int64)"
      ]
     },
     "execution_count": 15,
     "metadata": {},
     "output_type": "execute_result"
    }
   ],
   "source": [
    "# Check for missing values\n",
    "missing_values = sdoh_data.isnull().sum()\n",
    "missing_values[missing_values > 0]"
   ]
  },
  {
   "cell_type": "markdown",
   "id": "293ae7a2-1ec7-446c-952a-d1700128efae",
   "metadata": {},
   "source": [
    "- There are no missing values in the dataset. This is great because it simplifies our preprocessing steps, since we have dealt with data cleaning in another python notebook on our github repo."
   ]
  },
  {
   "cell_type": "markdown",
   "id": "004a8153-5a3e-4669-9f5f-0dcdae036276",
   "metadata": {},
   "source": [
    "### Standard Scaling and One hot encoding categorical variables"
   ]
  },
  {
   "cell_type": "code",
   "execution_count": 24,
   "id": "63f95e68-9780-4232-8f5d-86d21a3c2abd",
   "metadata": {
    "tags": []
   },
   "outputs": [
    {
     "data": {
      "image/png": "[encoded data removed]",
      "text/plain": [
       "<Figure size 1500x500 with 3 Axes>"
      ]
     },
     "metadata": {},
     "output_type": "display_data"
    }
   ],
   "source": [
    "# Isolate the target variable and categorize it\n",
    "sdoh_data['Risk_Level'] = pd.cut(sdoh_data['CHR_PCT_DIABETES'],\n",
    "                                 bins=[-np.inf, 10, 15, np.inf],\n",
    "                                 labels=['Low Risk', 'Medium Risk', 'High Risk'])\n",
    "\n",
    "numeric_features = sdoh_data.select_dtypes(include=['float64', 'int64']).columns.tolist()\n",
    "numeric_features.remove('YEAR')\n",
    "numeric_features.remove('CHR_PCT_DIABETES')\n",
    "\n",
    "categorical_features = ['REGION']\n",
    "\n",
    "preprocessor = ColumnTransformer(\n",
    "    transformers=[\n",
    "        ('num', StandardScaler(), numeric_features),\n",
    "        ('cat', OneHotEncoder(), categorical_features)\n",
    "    ])\n",
    "\n",
    "# Transform data\n",
    "sdoh_data_preprocessed = preprocessor.fit_transform(sdoh_data)\n",
    "\n",
    "# Creating a DataFrame for visualization\n",
    "column_names = numeric_features + list(preprocessor.named_transformers_['cat'].get_feature_names_out())\n",
    "df_scaled = pd.DataFrame(sdoh_data_preprocessed, columns=column_names)\n",
    "df_scaled['Risk_Level'] = sdoh_data['Risk_Level']\n",
    "df_scaled['CHR_PCT_DIABETES'] = sdoh_data['CHR_PCT_DIABETES']\n",
    "\n",
    "# Suppressing FutureWarnings specifically from seaborn\n",
    "with warnings.catch_warnings():\n",
    "    warnings.simplefilter(\"ignore\", category=FutureWarning)\n",
    "    # Plotting\n",
    "    plt.figure(figsize=(15, 5))\n",
    "    for i, risk_level in enumerate(['Low Risk', 'Medium Risk', 'High Risk'], 1):\n",
    "        plt.subplot(1, 3, i)\n",
    "        sns.boxplot(y='CHR_PCT_DIABETES', x='Risk_Level', data=df_scaled[df_scaled['Risk_Level'] == risk_level])\n",
    "        plt.title(f'{risk_level} Diabetes Percentage')\n",
    "        plt.ylabel('Percentage of Diabetes')\n",
    "        plt.xlabel('Risk Level')\n",
    "\n",
    "    plt.tight_layout()\n",
    "    plt.show()"
   ]
  },
  {
   "cell_type": "markdown",
   "id": "41401c5d-c26c-402e-9d01-b9148e90d146",
   "metadata": {},
   "source": [
    "### Splitting the dataset into Train, Validation and Testing"
   ]
  },
  {
   "cell_type": "code",
   "execution_count": 27,
   "id": "d49a242f-21e3-42d5-ab68-7de3d695e082",
   "metadata": {
    "tags": []
   },
   "outputs": [],
   "source": [
    "X = sdoh_data.drop(['CHR_PCT_DIABETES', 'Risk_Level'], axis=1)\n",
    "y = sdoh_data['Risk_Level']\n",
    "\n",
    "# Splitting the dataset into training, validation, and test sets\n",
    "X_train, X_temp, y_train, y_temp = train_test_split(X, y, test_size=0.2, random_state=10, stratify=y)\n",
    "X_val, X_test, y_val, y_test = train_test_split(X_temp, y_temp, test_size=0.5, random_state=10, stratify=y_temp)"
   ]
  },
  {
   "cell_type": "markdown",
   "id": "97003250-4538-404b-b58a-a529b95f5dec",
   "metadata": {},
   "source": [
    "### Using SMOTE"
   ]
  },
  {
   "cell_type": "code",
   "execution_count": 40,
   "id": "1a5f1c17-3656-47a3-bb87-f29f6625f071",
   "metadata": {
    "tags": []
   },
   "outputs": [
    {
     "name": "stdout",
     "output_type": "stream",
     "text": [
      "Class Distribution in Training Set:\n",
      "Risk_Level\n",
      "Medium Risk    0.506977\n",
      "Low Risk       0.287209\n",
      "High Risk      0.205814\n",
      "Name: proportion, dtype: float64\n"
     ]
    },
    {
     "data": {
      "image/png": "[encoded data removed]",
      "text/plain": [
       "<Figure size 800x500 with 1 Axes>"
      ]
     },
     "metadata": {},
     "output_type": "display_data"
    }
   ],
   "source": [
    "# Display the class distribution in the training dataset\n",
    "class_distribution = y_train.value_counts(normalize=True)\n",
    "print(\"Class Distribution in Training Set:\")\n",
    "print(class_distribution)\n",
    "\n",
    "with warnings.catch_warnings():\n",
    "    warnings.simplefilter(\"ignore\", category=FutureWarning)\n",
    "    # Plotting\n",
    "    plt.figure(figsize=(8, 5))\n",
    "    for i, risk_level in enumerate(['Low Risk', 'Medium Risk', 'High Risk'], 1):\n",
    "        sns.countplot(x=y_train)\n",
    "        plt.title('Class Distribution Before SMOTE')\n",
    "        plt.ylabel('Frequency')\n",
    "        plt.xlabel('Risk Level')\n",
    "        \n",
    "plt.show()"
   ]
  },
  {
   "cell_type": "code",
   "execution_count": 52,
   "id": "b0389762-cda9-4692-890d-e9b6e516ef6c",
   "metadata": {
    "tags": []
   },
   "outputs": [],
   "source": [
    "# Define preprocessing for numeric and categorical data\n",
    "numeric_features = X_train.select_dtypes(include=['float64', 'int64']).columns.tolist()\n",
    "categorical_features = ['REGION']\n",
    "\n",
    "preprocessor = ColumnTransformer(\n",
    "    transformers=[\n",
    "        ('num', StandardScaler(), numeric_features),\n",
    "        ('cat', OneHotEncoder(), categorical_features)\n",
    "    ])\n",
    "\n",
    "# Create a pipeline that includes SMOTE and the preprocessing\n",
    "pipeline = ImbPipeline([\n",
    "    ('preprocessor', preprocessor),\n",
    "    ('smote', SMOTE(random_state=10))\n",
    "])\n",
    "\n",
    "# Apply transformations and SMOTE to the training data only\n",
    "X_train_transformed, y_train_transformed = pipeline.fit_resample(X_train, y_train)\n",
    "\n",
    "# Apply only transformations to the validation and test sets\n",
    "X_val_transformed = preprocessor.transform(X_val)\n",
    "X_test_transformed = preprocessor.transform(X_test)\n"
   ]
  },
  {
   "cell_type": "code",
   "execution_count": 54,
   "id": "92c220e5-3274-466e-b5af-f93a5c00335c",
   "metadata": {
    "tags": []
   },
   "outputs": [
    {
     "name": "stdout",
     "output_type": "stream",
     "text": [
      "Risk_Level\n",
      "Low Risk       0.333333\n",
      "Medium Risk    0.333333\n",
      "High Risk      0.333333\n",
      "Name: proportion, dtype: float64\n"
     ]
    }
   ],
   "source": [
    "# Check the new class distribution\n",
    "balanced_class_distribution = pd.Series(y_train_transformed).value_counts(normalize=True)\n",
    "print(balanced_class_distribution)"
   ]
  },
  {
   "cell_type": "code",
   "execution_count": 66,
   "id": "14e08ae4-03bc-4037-a3b2-0893a4e441ef",
   "metadata": {
    "tags": []
   },
   "outputs": [
    {
     "data": {
      "text/plain": [
       "<Figure size 800x600 with 0 Axes>"
      ]
     },
     "metadata": {},
     "output_type": "display_data"
    },
    {
     "data": {
      "image/png": "[encoded data removed]",
      "text/plain": [
       "<Figure size 800x500 with 1 Axes>"
      ]
     },
     "metadata": {},
     "output_type": "display_data"
    }
   ],
   "source": [
    "balanced_class_distribution = pd.Series(y_train_transformed).value_counts(normalize=True)\n",
    "\n",
    "# Plotting the class distribution\n",
    "plt.figure(figsize=(8, 6))\n",
    "\n",
    "with warnings.catch_warnings():\n",
    "    warnings.simplefilter(\"ignore\", category=FutureWarning)\n",
    "    # Plotting\n",
    "    plt.figure(figsize=(8, 5))\n",
    "    for i, risk_level in enumerate(['Low Risk', 'Medium Risk', 'High Risk'], 1):\n",
    "        sns.barplot(x=balanced_class_distribution.index, y=balanced_class_distribution.values, palette='viridis')\n",
    "        plt.title('Class Distribution After SMOTE')\n",
    "        plt.ylabel('Frequency')\n",
    "        plt.ylim(0, 0.5)\n",
    "        plt.xlabel('Risk Level')\n",
    "        \n",
    "plt.show()"
   ]
  },
  {
   "cell_type": "markdown",
   "id": "b90f555b-6d4a-4d02-a0d6-5bf44fba2358",
   "metadata": {},
   "source": [
    "### Using PCA for Dimention Reduction"
   ]
  },
  {
   "cell_type": "code",
   "execution_count": 72,
   "id": "f3713f8a-1c3b-428a-a743-42e820eab36d",
   "metadata": {
    "tags": []
   },
   "outputs": [
    {
     "data": {
      "image/png": "[encoded data removed]",
      "text/plain": [
       "<Figure size 1000x600 with 1 Axes>"
      ]
     },
     "metadata": {},
     "output_type": "display_data"
    }
   ],
   "source": [
    "# Initialize PCA\n",
    "pca = PCA(n_components=None)  # None to keep all components for variance analysis\n",
    "X_train_pca = pca.fit_transform(X_train_transformed)\n",
    "\n",
    "# Calculate cumulative explained variance\n",
    "explained_variance_ratio = pca.explained_variance_ratio_\n",
    "cumulative_explained_variance = np.cumsum(explained_variance_ratio)\n",
    "\n",
    "# Plot the cumulative explained variance\n",
    "plt.figure(figsize=(10, 6))\n",
    "plt.plot(cumulative_explained_variance, marker='o')\n",
    "plt.xlabel('Number of Components')\n",
    "plt.ylabel('Cumulative Explained Variance')\n",
    "plt.title('Cumulative Explained Variance by PCA Components')\n",
    "plt.grid(True)\n",
    "plt.axhline(y=0.95, color='r', linestyle='--')  # Line to show the 95% explained variance threshold\n",
    "plt.show()"
   ]
  },
  {
   "cell_type": "code",
   "execution_count": 74,
   "id": "48fcfd41-4527-4ab8-8ea7-c65752b7c03a",
   "metadata": {
    "tags": []
   },
   "outputs": [
    {
     "name": "stdout",
     "output_type": "stream",
     "text": [
      "Transformed training data shape: (3924, 150)\n",
      "Transformed validation data shape: (323, 150)\n",
      "Transformed test data shape: (323, 150)\n"
     ]
    }
   ],
   "source": [
    "pca = PCA(n_components=150)\n",
    "\n",
    "# Fit PCA on the training data and transform it\n",
    "X_train_pca = pca.fit_transform(X_train_transformed)\n",
    "\n",
    "# Transforming the validation and test data using the same PCA model\n",
    "X_val_pca = pca.transform(X_val_transformed)\n",
    "X_test_pca = pca.transform(X_test_transformed)\n",
    "\n",
    "# Printing the shapes of the transformed data to confirm dimensionality reduction\n",
    "print(\"Transformed training data shape:\", X_train_pca.shape)\n",
    "print(\"Transformed validation data shape:\", X_val_pca.shape)\n",
    "print(\"Transformed test data shape:\", X_test_pca.shape)"
   ]
  },
  {
   "cell_type": "markdown",
   "id": "43b5ac69-8884-4755-93a6-e38c5ef8f422",
   "metadata": {},
   "source": [
    "## Logistic Regression"
   ]
  },
  {
   "cell_type": "code",
   "execution_count": 82,
   "id": "317fc4fd-f5b2-47b1-a248-2e178b692d17",
   "metadata": {
    "tags": []
   },
   "outputs": [
    {
     "name": "stdout",
     "output_type": "stream",
     "text": [
      "Confusion Matrix on Validation Set:\n",
      " [[43  8 16]\n",
      " [ 7 68 18]\n",
      " [34 39 90]]\n",
      "\n",
      "Classification Report on Validation Set:\n",
      "               precision    recall  f1-score   support\n",
      "\n",
      "   High Risk       0.51      0.64      0.57        67\n",
      "    Low Risk       0.59      0.73      0.65        93\n",
      " Medium Risk       0.73      0.55      0.63       163\n",
      "\n",
      "    accuracy                           0.62       323\n",
      "   macro avg       0.61      0.64      0.62       323\n",
      "weighted avg       0.64      0.62      0.62       323\n",
      "\n"
     ]
    }
   ],
   "source": [
    "# Initialize the Logistic Regression model with default settings for initial training\n",
    "logistic_regression = LogisticRegression(random_state=10, max_iter=10000)\n",
    "\n",
    "# Train the model on the PCA-transformed training data\n",
    "logistic_regression.fit(X_train_pca, y_train_transformed)\n",
    "\n",
    "# Predict on the PCA-transformed validation data\n",
    "y_val_pred = logistic_regression.predict(X_val_pca)\n",
    "\n",
    "# Evaluation metrics on the validation set\n",
    "conf_matrix_val = confusion_matrix(y_val, y_val_pred)\n",
    "class_report_val = classification_report(y_val, y_val_pred)\n",
    "\n",
    "print(\"Confusion Matrix on Validation Set:\\n\", conf_matrix_val)\n",
    "print(\"\\nClassification Report on Validation Set:\\n\", class_report_val)"
   ]
  },
  {
   "cell_type": "markdown",
   "id": "c5547990-8476-43e3-aa28-eca8864b4137",
   "metadata": {},
   "source": [
    "#### Hyperparameter Tuning LR"
   ]
  },
  {
   "cell_type": "code",
   "execution_count": 85,
   "id": "3db85f68-8e30-401f-abb7-4af916a1989a",
   "metadata": {
    "tags": []
   },
   "outputs": [
    {
     "name": "stdout",
     "output_type": "stream",
     "text": [
      "Fitting 3 folds for each of 8 candidates, totalling 24 fits\n",
      "Best parameters: {'C': 0.1, 'penalty': 'l2', 'solver': 'saga'}\n",
      "Best recall (macro): 0.692915392456677\n"
     ]
    }
   ],
   "source": [
    "# Parameters to tune\n",
    "param_grid_lr = {\n",
    "    'C': [0.01, 0.1, 1, 10],  # Regularization strength\n",
    "    'penalty': ['l1', 'l2'],  # Types of penalties (L1 and L2)\n",
    "    'solver': ['saga']  # Solver that supports L1 penalty\n",
    "}\n",
    "\n",
    "# Initialize the model with increased max_iter for stability\n",
    "logistic_regression = LogisticRegression(random_state=10, max_iter=10000)\n",
    "\n",
    "# Initialize GridSearchCV with training data\n",
    "grid_search_lr = GridSearchCV(logistic_regression, param_grid_lr, cv=3, scoring='recall_macro', verbose=1)\n",
    "\n",
    "# Fit GridSearchCV on the training data\n",
    "grid_search_lr.fit(X_train_pca, y_train_transformed)\n",
    "\n",
    "# Best parameters and best score\n",
    "print(\"Best parameters:\", grid_search_lr.best_params_)\n",
    "print(\"Best recall (macro):\", grid_search_lr.best_score_)"
   ]
  },
  {
   "cell_type": "markdown",
   "id": "7919cad8-4826-451b-ae5f-c3914d159047",
   "metadata": {},
   "source": [
    "#### Tuned LR model"
   ]
  },
  {
   "cell_type": "code",
   "execution_count": 87,
   "id": "2c5397cd-2f17-4737-8275-62ca6d576144",
   "metadata": {
    "tags": []
   },
   "outputs": [
    {
     "name": "stdout",
     "output_type": "stream",
     "text": [
      "Final Confusion Matrix on Validation Set:\n",
      " [[44  8 15]\n",
      " [ 7 67 19]\n",
      " [34 39 90]]\n",
      "\n",
      "Final Classification Report on Validation Set:\n",
      "               precision    recall  f1-score   support\n",
      "\n",
      "   High Risk       0.52      0.66      0.58        67\n",
      "    Low Risk       0.59      0.72      0.65        93\n",
      " Medium Risk       0.73      0.55      0.63       163\n",
      "\n",
      "    accuracy                           0.62       323\n",
      "   macro avg       0.61      0.64      0.62       323\n",
      "weighted avg       0.64      0.62      0.62       323\n",
      "\n"
     ]
    }
   ],
   "source": [
    "logistic_regression_final = LogisticRegression(C=0.1, penalty='l2', solver='saga', max_iter=10000, random_state=10)\n",
    "\n",
    "# Train the model with the best parameters on the full training data\n",
    "logistic_regression_final.fit(X_train_pca, y_train_transformed)\n",
    "\n",
    "# Predict on the validation set\n",
    "y_val_pred_final = logistic_regression_final.predict(X_val_pca)\n",
    "\n",
    "# Evaluate the final model on the validation set\n",
    "conf_matrix_val_final = confusion_matrix(y_val, y_val_pred_final)\n",
    "class_report_val_final = classification_report(y_val, y_val_pred_final)\n",
    "\n",
    "print(\"Final Confusion Matrix on Validation Set:\\n\", conf_matrix_val_final)\n",
    "print(\"\\nFinal Classification Report on Validation Set:\\n\", class_report_val_final)"
   ]
  },
  {
   "cell_type": "markdown",
   "id": "53e16671-cbf5-4423-ae05-88446350c88b",
   "metadata": {},
   "source": [
    "## Random Forest Model"
   ]
  },
  {
   "cell_type": "code",
   "execution_count": 94,
   "id": "15a406c5-f891-4a2d-87e7-f3862ce2ce63",
   "metadata": {
    "tags": []
   },
   "outputs": [
    {
     "name": "stdout",
     "output_type": "stream",
     "text": [
      "Random Forest - Confusion Matrix on Validation Set:\n",
      " [[35  4 28]\n",
      " [ 3 58 32]\n",
      " [22 43 98]]\n",
      "\n",
      "Random Forest - Classification Report on Validation Set:\n",
      "               precision    recall  f1-score   support\n",
      "\n",
      "   High Risk       0.58      0.52      0.55        67\n",
      "    Low Risk       0.55      0.62      0.59        93\n",
      " Medium Risk       0.62      0.60      0.61       163\n",
      "\n",
      "    accuracy                           0.59       323\n",
      "   macro avg       0.59      0.58      0.58       323\n",
      "weighted avg       0.59      0.59      0.59       323\n",
      "\n"
     ]
    }
   ],
   "source": [
    "# Initialize the Random Forest Classifier\n",
    "random_forest = RandomForestClassifier(random_state=10)\n",
    "\n",
    "# Train the model on the PCA-transformed and balanced training data\n",
    "random_forest.fit(X_train_pca, y_train_transformed)\n",
    "\n",
    "# Predict on the PCA-transformed validation data\n",
    "y_val_pred_rf = random_forest.predict(X_val_pca)\n",
    "\n",
    "# Evaluation metrics on the validation set\n",
    "conf_matrix_val_rf = confusion_matrix(y_val, y_val_pred_rf)\n",
    "class_report_val_rf = classification_report(y_val, y_val_pred_rf)\n",
    "\n",
    "print(\"Random Forest - Confusion Matrix on Validation Set:\\n\", conf_matrix_val_rf)\n",
    "print(\"\\nRandom Forest - Classification Report on Validation Set:\\n\", class_report_val_rf)"
   ]
  },
  {
   "cell_type": "markdown",
   "id": "ba5f61ed-88ba-46a4-b72e-baf130c6624c",
   "metadata": {},
   "source": [
    "#### Hyperparameter Tuning with GridSearchCV for Random Forest"
   ]
  },
  {
   "cell_type": "code",
   "execution_count": 97,
   "id": "13a13170-aab5-4fe5-86f3-51d025505985",
   "metadata": {
    "tags": []
   },
   "outputs": [
    {
     "name": "stdout",
     "output_type": "stream",
     "text": [
      "Fitting 3 folds for each of 81 candidates, totalling 243 fits\n",
      "Best parameters for Random Forest: {'max_depth': 30, 'min_samples_leaf': 2, 'min_samples_split': 2, 'n_estimators': 300}\n",
      "Best recall (macro) for Random Forest: 0.7729357798165136\n"
     ]
    }
   ],
   "source": [
    "param_grid_rf = {\n",
    "    'n_estimators': [100, 200, 300],  # Number of trees in the forest\n",
    "    'max_depth': [10, 20, 30],  # Maximum depth of the tree\n",
    "    'min_samples_split': [2, 5, 10],  # Minimum number of samples required to split an internal node\n",
    "    'min_samples_leaf': [1, 2, 4]  # Minimum number of samples required to be at a leaf node\n",
    "}\n",
    "\n",
    "# Initialize the model with a higher n_jobs to speed up the use of multiple cores\n",
    "random_forest = RandomForestClassifier(random_state=10, n_jobs=-1)\n",
    "\n",
    "# Initialize GridSearchCV with training data\n",
    "grid_search_rf = GridSearchCV(random_forest, param_grid_rf, cv=3, scoring='recall_macro', verbose=1)\n",
    "\n",
    "# Fit GridSearchCV on the training data\n",
    "grid_search_rf.fit(X_train_pca, y_train_transformed)\n",
    "\n",
    "# Best parameters and best score\n",
    "print(\"Best parameters for Random Forest:\", grid_search_rf.best_params_)\n",
    "print(\"Best recall (macro) for Random Forest:\", grid_search_rf.best_score_)"
   ]
  },
  {
   "cell_type": "markdown",
   "id": "12310e16-afb6-4895-9b3d-383737cc384a",
   "metadata": {},
   "source": [
    "#### Fine-tuned Random Forest Model"
   ]
  },
  {
   "cell_type": "code",
   "execution_count": 100,
   "id": "76ca09ef-2e9a-486c-bd89-8da8d90ab7f2",
   "metadata": {
    "tags": []
   },
   "outputs": [
    {
     "name": "stdout",
     "output_type": "stream",
     "text": [
      "Final Random Forest - Confusion Matrix on Validation Set:\n",
      " [[ 38   3  26]\n",
      " [  3  60  30]\n",
      " [ 24  34 105]]\n",
      "\n",
      "Final Random Forest - Classification Report on Validation Set:\n",
      "               precision    recall  f1-score   support\n",
      "\n",
      "   High Risk       0.58      0.57      0.58        67\n",
      "    Low Risk       0.62      0.65      0.63        93\n",
      " Medium Risk       0.65      0.64      0.65       163\n",
      "\n",
      "    accuracy                           0.63       323\n",
      "   macro avg       0.62      0.62      0.62       323\n",
      "weighted avg       0.63      0.63      0.63       323\n",
      "\n"
     ]
    }
   ],
   "source": [
    "# Initialize the model with the best parameters\n",
    "random_forest_final = RandomForestClassifier(**grid_search_rf.best_params_, random_state=10)\n",
    "\n",
    "# Train the model with the best parameters on the full training data\n",
    "random_forest_final.fit(X_train_pca, y_train_transformed)\n",
    "\n",
    "# Predict on the validation set\n",
    "y_val_pred_final_rf = random_forest_final.predict(X_val_pca)\n",
    "\n",
    "# Evaluate the final model on the validation set\n",
    "conf_matrix_val_final_rf = confusion_matrix(y_val, y_val_pred_final_rf)\n",
    "class_report_val_final_rf = classification_report(y_val, y_val_pred_final_rf)\n",
    "\n",
    "print(\"Final Random Forest - Confusion Matrix on Validation Set:\\n\", conf_matrix_val_final_rf)\n",
    "print(\"\\nFinal Random Forest - Classification Report on Validation Set:\\n\", class_report_val_final_rf)"
   ]
  },
  {
   "cell_type": "markdown",
   "id": "a08e6bdd-cbfc-4325-a0fa-793d0de105ee",
   "metadata": {},
   "source": [
    "## AdaBoost Classifier"
   ]
  },
  {
   "cell_type": "code",
   "execution_count": 111,
   "id": "2ee6dce1-a8af-4cf3-8c72-05ba031c9eb2",
   "metadata": {
    "tags": []
   },
   "outputs": [
    {
     "name": "stdout",
     "output_type": "stream",
     "text": [
      "AdaBoost - Confusion Matrix on Validation Set:\n",
      " [[47  5 15]\n",
      " [ 7 55 31]\n",
      " [38 61 64]]\n",
      "\n",
      "AdaBoost - Classification Report on Validation Set:\n",
      "               precision    recall  f1-score   support\n",
      "\n",
      "   High Risk       0.51      0.70      0.59        67\n",
      "    Low Risk       0.45      0.59      0.51        93\n",
      " Medium Risk       0.58      0.39      0.47       163\n",
      "\n",
      "    accuracy                           0.51       323\n",
      "   macro avg       0.52      0.56      0.52       323\n",
      "weighted avg       0.53      0.51      0.51       323\n",
      "\n"
     ]
    }
   ],
   "source": [
    "# Initialize the AdaBoost Classifier\n",
    "adaboost = AdaBoostClassifier(random_state=10, algorithm='SAMME')\n",
    "\n",
    "# Train the model on the PCA-transformed and balanced training data\n",
    "adaboost.fit(X_train_pca, y_train_transformed)\n",
    "\n",
    "# Predict on the PCA-transformed validation data\n",
    "y_val_pred_ab = adaboost.predict(X_val_pca)\n",
    "\n",
    "# Evaluation metrics on the validation set\n",
    "conf_matrix_val_ab = confusion_matrix(y_val, y_val_pred_ab)\n",
    "class_report_val_ab = classification_report(y_val, y_val_pred_ab)\n",
    "\n",
    "print(\"AdaBoost - Confusion Matrix on Validation Set:\\n\", conf_matrix_val_ab)\n",
    "print(\"\\nAdaBoost - Classification Report on Validation Set:\\n\", class_report_val_ab)"
   ]
  },
  {
   "cell_type": "markdown",
   "id": "be01ccbd-da30-4b67-8b78-39e92647e8f6",
   "metadata": {},
   "source": [
    "#### Hyperparameter tuning AdaBoost Classifier Using GridsearchCV"
   ]
  },
  {
   "cell_type": "code",
   "execution_count": 113,
   "id": "80fc27e2-918a-4415-9206-cad5a554ccce",
   "metadata": {
    "tags": []
   },
   "outputs": [
    {
     "name": "stdout",
     "output_type": "stream",
     "text": [
      "Fitting 3 folds for each of 9 candidates, totalling 27 fits\n",
      "Best parameters for AdaBoost: {'algorithm': 'SAMME', 'learning_rate': 1, 'n_estimators': 150}\n",
      "Best recall (macro) for AdaBoost: 0.6299694189602447\n"
     ]
    }
   ],
   "source": [
    "# Parameters to tune\n",
    "param_grid_ab = {\n",
    "    'n_estimators': [50, 100, 150],  # Number of boosting stages to perform\n",
    "    'learning_rate': [0.01, 0.1, 1],  # Weight applied to each classifier at each boosting iteration\n",
    "    'algorithm': ['SAMME']  # Using SAMME instead of SAMME.R to avoid deprecation warnings\n",
    "}\n",
    "\n",
    "# Initialize the AdaBoost model with SAMME algorithm\n",
    "adaboost = AdaBoostClassifier(random_state=10, algorithm='SAMME')\n",
    "\n",
    "# Initialize GridSearchCV with training data\n",
    "grid_search_ab = GridSearchCV(adaboost, param_grid_ab, cv=3, scoring='recall_macro', verbose=1)\n",
    "\n",
    "# Fit GridSearchCV on the training data\n",
    "grid_search_ab.fit(X_train_pca, y_train_transformed)\n",
    "\n",
    "# Best parameters and best score\n",
    "print(\"Best parameters for AdaBoost:\", grid_search_ab.best_params_)\n",
    "print(\"Best recall (macro) for AdaBoost:\", grid_search_ab.best_score_)"
   ]
  },
  {
   "cell_type": "markdown",
   "id": "9607cfa2-14f8-4bef-b87c-0350797a9f25",
   "metadata": {},
   "source": [
    "#### Fine-tuned AdaBoost Classifier"
   ]
  },
  {
   "cell_type": "code",
   "execution_count": 118,
   "id": "046d7b12-9fcb-4b02-9e69-80d8f5d7d42c",
   "metadata": {
    "tags": []
   },
   "outputs": [
    {
     "name": "stdout",
     "output_type": "stream",
     "text": [
      "Final AdaBoost - Confusion Matrix on Validation Set:\n",
      " [[43  4 20]\n",
      " [ 6 59 28]\n",
      " [27 53 83]]\n",
      "\n",
      "Final AdaBoost - Classification Report on Validation Set:\n",
      "               precision    recall  f1-score   support\n",
      "\n",
      "   High Risk       0.57      0.64      0.60        67\n",
      "    Low Risk       0.51      0.63      0.56        93\n",
      " Medium Risk       0.63      0.51      0.56       163\n",
      "\n",
      "    accuracy                           0.57       323\n",
      "   macro avg       0.57      0.60      0.58       323\n",
      "weighted avg       0.58      0.57      0.57       323\n",
      "\n"
     ]
    }
   ],
   "source": [
    "# Initialize the model with the best parameters found\n",
    "adaboost_final = AdaBoostClassifier(**grid_search_ab.best_params_, random_state=10)\n",
    "\n",
    "# Train the model with the best parameters on the full training data\n",
    "adaboost_final.fit(X_train_pca, y_train_transformed)\n",
    "\n",
    "# Predict on the validation set\n",
    "y_val_pred_final_ab = adaboost_final.predict(X_val_pca)\n",
    "\n",
    "# Evaluate the final model on the validation set\n",
    "conf_matrix_val_final_ab = confusion_matrix(y_val, y_val_pred_final_ab)\n",
    "class_report_val_final_ab = classification_report(y_val, y_val_pred_final_ab)\n",
    "\n",
    "print(\"Final AdaBoost - Confusion Matrix on Validation Set:\\n\", conf_matrix_val_final_ab)\n",
    "print(\"\\nFinal AdaBoost - Classification Report on Validation Set:\\n\", class_report_val_final_ab)"
   ]
  },
  {
   "cell_type": "markdown",
   "id": "37e68c27-1128-4db0-8cf6-0bf51ff84e9c",
   "metadata": {},
   "source": [
    "## XGBoost Classifier"
   ]
  },
  {
   "cell_type": "code",
   "execution_count": 124,
   "id": "896943e5-e792-442e-af38-42645fe5dc7c",
   "metadata": {
    "tags": []
   },
   "outputs": [
    {
     "name": "stdout",
     "output_type": "stream",
     "text": [
      "XGBoost - Confusion Matrix on Validation Set:\n",
      " [[ 34   5  28]\n",
      " [  3  53  37]\n",
      " [ 17  34 112]]\n",
      "\n",
      "XGBoost - Classification Report on Validation Set:\n",
      "               precision    recall  f1-score   support\n",
      "\n",
      "   High Risk       0.63      0.51      0.56        67\n",
      "    Low Risk       0.58      0.57      0.57        93\n",
      " Medium Risk       0.63      0.69      0.66       163\n",
      "\n",
      "    accuracy                           0.62       323\n",
      "   macro avg       0.61      0.59      0.60       323\n",
      "weighted avg       0.62      0.62      0.61       323\n",
      "\n"
     ]
    }
   ],
   "source": [
    "# Encode class labels to integers\n",
    "label_encoder = LabelEncoder()\n",
    "y_train_encoded = label_encoder.fit_transform(y_train_transformed)\n",
    "y_val_encoded = label_encoder.transform(y_val)\n",
    "\n",
    "# Initialize the XGBoost Classifier\n",
    "xgboost = XGBClassifier(random_state=10, use_label_encoder=False, eval_metric='mlogloss')\n",
    "\n",
    "# Train the model on the PCA-transformed and class-encoded training data\n",
    "xgboost.fit(X_train_pca, y_train_encoded)\n",
    "\n",
    "# Predicting on the PCA-transformed and class-encoded validation data\n",
    "y_val_pred_xgb = xgboost.predict(X_val_pca)\n",
    "\n",
    "# Evaluation metrics on the validation set\n",
    "conf_matrix_val_xgb = confusion_matrix(y_val_encoded, y_val_pred_xgb)\n",
    "class_report_val_xgb = classification_report(y_val_encoded, y_val_pred_xgb, target_names=label_encoder.classes_)\n",
    "\n",
    "print(\"XGBoost - Confusion Matrix on Validation Set:\\n\", conf_matrix_val_xgb)\n",
    "print(\"\\nXGBoost - Classification Report on Validation Set:\\n\", class_report_val_xgb)"
   ]
  },
  {
   "cell_type": "markdown",
   "id": "be7df002-dcd9-4e49-b62a-c5cc0633809c",
   "metadata": {},
   "source": [
    "#### Hyperparameter Tuning XGBoost Classifier"
   ]
  },
  {
   "cell_type": "code",
   "execution_count": 127,
   "id": "208d2c53-4f68-4c0a-9036-bedf29cdbe6b",
   "metadata": {
    "tags": []
   },
   "outputs": [
    {
     "name": "stdout",
     "output_type": "stream",
     "text": [
      "Fitting 3 folds for each of 243 candidates, totalling 729 fits\n",
      "Best parameters for XGBoost: {'colsample_bytree': 0.8, 'learning_rate': 0.1, 'max_depth': 7, 'n_estimators': 300, 'subsample': 0.9}\n",
      "Best recall (macro) for XGBoost: 0.7882262996941897\n"
     ]
    }
   ],
   "source": [
    "# Parameters for GridSearchCV\n",
    "param_grid_xgb = {\n",
    "    'n_estimators': [100, 200, 300],\n",
    "    'max_depth': [3, 5, 7],\n",
    "    'learning_rate': [0.01, 0.1, 0.2],\n",
    "    'subsample': [0.8, 0.9, 1],\n",
    "    'colsample_bytree': [0.8, 0.9, 1]\n",
    "}\n",
    "\n",
    "# Initialize the XGBoost model\n",
    "xgboost = XGBClassifier(random_state=10, use_label_encoder=False, eval_metric='mlogloss')\n",
    "\n",
    "# Initialize GridSearchCV\n",
    "grid_search_xgb = GridSearchCV(xgboost, param_grid_xgb, cv=3, scoring='recall_macro', verbose=1)\n",
    "\n",
    "# Fit GridSearchCV on the training data\n",
    "grid_search_xgb.fit(X_train_pca, y_train_encoded)\n",
    "\n",
    "# Print the best parameters and best score\n",
    "print(\"Best parameters for XGBoost:\", grid_search_xgb.best_params_)\n",
    "print(\"Best recall (macro) for XGBoost:\", grid_search_xgb.best_score_)"
   ]
  },
  {
   "cell_type": "markdown",
   "id": "b60bb95f-1d56-4972-8630-d2658f873357",
   "metadata": {},
   "source": [
    "#### Fine-tuned XGBoost Classifier"
   ]
  },
  {
   "cell_type": "code",
   "execution_count": 130,
   "id": "9d5b2575-f501-4987-970f-da4ec9a57962",
   "metadata": {
    "tags": []
   },
   "outputs": [
    {
     "name": "stdout",
     "output_type": "stream",
     "text": [
      "Final XGBoost - Confusion Matrix on Validation Set:\n",
      " [[ 36   5  26]\n",
      " [  4  52  37]\n",
      " [ 16  32 115]]\n",
      "\n",
      "Final XGBoost - Classification Report on Validation Set:\n",
      "               precision    recall  f1-score   support\n",
      "\n",
      "   High Risk       0.64      0.54      0.59        67\n",
      "    Low Risk       0.58      0.56      0.57        93\n",
      " Medium Risk       0.65      0.71      0.67       163\n",
      "\n",
      "    accuracy                           0.63       323\n",
      "   macro avg       0.62      0.60      0.61       323\n",
      "weighted avg       0.63      0.63      0.63       323\n",
      "\n"
     ]
    }
   ],
   "source": [
    "# Initializing the model with the best parameters found\n",
    "xgboost_final = XGBClassifier(**grid_search_xgb.best_params_, random_state=10, use_label_encoder=False, eval_metric='mlogloss')\n",
    "\n",
    "# Train the model with the best parameters on the full training data\n",
    "xgboost_final.fit(X_train_pca, y_train_encoded)\n",
    "\n",
    "# Predict on the PCA-transformed and class-encoded validation data\n",
    "y_val_encoded = label_encoder.transform(y_val)  # Ensure validation labels are encoded\n",
    "y_val_pred_final_xgb = xgboost_final.predict(X_val_pca)\n",
    "\n",
    "# Evaluate the final model on the validation set\n",
    "conf_matrix_val_final_xgb = confusion_matrix(y_val_encoded, y_val_pred_final_xgb)\n",
    "class_report_val_final_xgb = classification_report(y_val_encoded, y_val_pred_final_xgb, target_names=label_encoder.classes_)\n",
    "\n",
    "print(\"Final XGBoost - Confusion Matrix on Validation Set:\\n\", conf_matrix_val_final_xgb)\n",
    "print(\"\\nFinal XGBoost - Classification Report on Validation Set:\\n\", class_report_val_final_xgb)"
   ]
  },
  {
   "cell_type": "code",
   "execution_count": null,
   "id": "98d8dd7e-ee4a-4466-b2b0-5f7b4db360b9",
   "metadata": {},
   "outputs": [],
   "source": []
  }
 ],
 "metadata": {
  "kernelspec": {
   "display_name": "Python 3 (ipykernel)",
   "language": "python",
   "name": "python3"
  },
  "language_info": {
   "codemirror_mode": {
    "name": "ipython",
    "version": 3
   },
   "file_extension": ".py",
   "mimetype": "text/x-python",
   "name": "python",
   "nbconvert_exporter": "python",
   "pygments_lexer": "ipython3",
   "version": "3.11.4"
  }
 },
 "nbformat": 4,
 "nbformat_minor": 5
}
