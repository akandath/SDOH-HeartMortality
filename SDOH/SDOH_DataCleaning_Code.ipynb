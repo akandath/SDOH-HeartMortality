{
 "cells": [
  {
   "cell_type": "markdown",
   "id": "404e9b55-ec77-492f-9a0e-ba512daba2f0",
   "metadata": {},
   "source": [
    "# Data Cleaning"
   ]
  },
  {
   "cell_type": "code",
   "execution_count": 1,
   "id": "05de0d11-2409-466e-a873-c685ea38d589",
   "metadata": {
    "tags": []
   },
   "outputs": [],
   "source": [
    "import pandas as pd\n",
    "import numpy as np\n",
    "import matplotlib.pyplot as plt\n",
    "from scipy.stats import mode\n",
    "from sklearn.impute import SimpleImputer, KNNImputer\n",
    "import warnings\n",
    "warnings.filterwarnings('ignore')"
   ]
  },
  {
   "cell_type": "code",
   "execution_count": 2,
   "id": "c8db36f1-7926-4dd6-9162-01aeb7e25f19",
   "metadata": {
    "tags": []
   },
   "outputs": [
    {
     "data": {
      "text/html": [
       "<div>\n",
       "<style scoped>\n",
       "    .dataframe tbody tr th:only-of-type {\n",
       "        vertical-align: middle;\n",
       "    }\n",
       "\n",
       "    .dataframe tbody tr th {\n",
       "        vertical-align: top;\n",
       "    }\n",
       "\n",
       "    .dataframe thead th {\n",
       "        text-align: right;\n",
       "    }\n",
       "</style>\n",
       "<table border=\"1\" class=\"dataframe\">\n",
       "  <thead>\n",
       "    <tr style=\"text-align: right;\">\n",
       "      <th></th>\n",
       "      <th>Domain</th>\n",
       "      <th>SDOH Topic</th>\n",
       "      <th>Variable Name</th>\n",
       "      <th>Variable Label</th>\n",
       "      <th>Data Source</th>\n",
       "      <th>Type of Data (Numeric or Character)</th>\n",
       "      <th>SAS Length</th>\n",
       "      <th>SAS Character</th>\n",
       "      <th>Position on the file</th>\n",
       "    </tr>\n",
       "  </thead>\n",
       "  <tbody>\n",
       "    <tr>\n",
       "      <th>0</th>\n",
       "      <td>Identifier</td>\n",
       "      <td>NaN</td>\n",
       "      <td>YEAR</td>\n",
       "      <td>SDOH file year</td>\n",
       "      <td>NaN</td>\n",
       "      <td>num</td>\n",
       "      <td>4</td>\n",
       "      <td>4.</td>\n",
       "      <td>1</td>\n",
       "    </tr>\n",
       "    <tr>\n",
       "      <th>1</th>\n",
       "      <td>6. Geography</td>\n",
       "      <td>NaN</td>\n",
       "      <td>COUNTYFIPS</td>\n",
       "      <td>State-county FIPS Code (5-digit)</td>\n",
       "      <td>NaN</td>\n",
       "      <td>char</td>\n",
       "      <td>5</td>\n",
       "      <td>$5.</td>\n",
       "      <td>2</td>\n",
       "    </tr>\n",
       "    <tr>\n",
       "      <th>2</th>\n",
       "      <td>6. Geography</td>\n",
       "      <td>NaN</td>\n",
       "      <td>STATEFIPS</td>\n",
       "      <td>State FIPS Code (2-digit)</td>\n",
       "      <td>NaN</td>\n",
       "      <td>char</td>\n",
       "      <td>2</td>\n",
       "      <td>$2.</td>\n",
       "      <td>3</td>\n",
       "    </tr>\n",
       "    <tr>\n",
       "      <th>3</th>\n",
       "      <td>6. Geography</td>\n",
       "      <td>NaN</td>\n",
       "      <td>STATE</td>\n",
       "      <td>State name</td>\n",
       "      <td>NaN</td>\n",
       "      <td>char</td>\n",
       "      <td>25</td>\n",
       "      <td>$25.</td>\n",
       "      <td>4</td>\n",
       "    </tr>\n",
       "    <tr>\n",
       "      <th>4</th>\n",
       "      <td>6. Geography</td>\n",
       "      <td>NaN</td>\n",
       "      <td>COUNTY</td>\n",
       "      <td>County name</td>\n",
       "      <td>NaN</td>\n",
       "      <td>char</td>\n",
       "      <td>75</td>\n",
       "      <td>$75.</td>\n",
       "      <td>5</td>\n",
       "    </tr>\n",
       "  </tbody>\n",
       "</table>\n",
       "</div>"
      ],
      "text/plain": [
       "         Domain SDOH Topic Variable Name                    Variable Label  \\\n",
       "0    Identifier        NaN          YEAR                    SDOH file year   \n",
       "1  6. Geography        NaN    COUNTYFIPS  State-county FIPS Code (5-digit)   \n",
       "2  6. Geography        NaN     STATEFIPS         State FIPS Code (2-digit)   \n",
       "3  6. Geography        NaN         STATE                        State name   \n",
       "4  6. Geography        NaN        COUNTY                       County name   \n",
       "\n",
       "  Data Source Type of Data (Numeric or Character)  SAS Length SAS Character  \\\n",
       "0         NaN                                 num           4            4.   \n",
       "1         NaN                                char           5           $5.   \n",
       "2         NaN                                char           2           $2.   \n",
       "3         NaN                                char          25          $25.   \n",
       "4         NaN                                char          75          $75.   \n",
       "\n",
       "   Position on the file  \n",
       "0                     1  \n",
       "1                     2  \n",
       "2                     3  \n",
       "3                     4  \n",
       "4                     5  "
      ]
     },
     "execution_count": 2,
     "metadata": {},
     "output_type": "execute_result"
    }
   ],
   "source": [
    "codebook_path = 'SDOH_2017_Codebook_County.xlsx'\n",
    "codebook = pd.read_excel(codebook_path, sheet_name='County')\n",
    "\n",
    "codebook.head()"
   ]
  },
  {
   "cell_type": "markdown",
   "id": "e240d870-ab64-4272-b011-9627f0715128",
   "metadata": {},
   "source": [
    "    Domain: The broad category or area of interest the variable pertains to.\n",
    "    SDOH Topic: Specific topic within the social determinants of health, if applicable.\n",
    "    Variable Name: The column name used in the dataset.\n",
    "    Variable Label: A more descriptive label of what the variable represents.\n",
    "    Data Source: Source of the data.\n",
    "    Type of Data (Numeric or Character): Indicates whether the variable is numeric or character.\n",
    "    SAS Length: The length of the field in the original SAS dataset.\n",
    "    SAS Character: SAS format if character data.\n",
    "    Position on the file: The column's position in the dataset."
   ]
  },
  {
   "cell_type": "code",
   "execution_count": 3,
   "id": "85eedc6d-0c28-48e7-acfb-58e9766626e4",
   "metadata": {
    "tags": []
   },
   "outputs": [
    {
     "data": {
      "text/html": [
       "<div>\n",
       "<style scoped>\n",
       "    .dataframe tbody tr th:only-of-type {\n",
       "        vertical-align: middle;\n",
       "    }\n",
       "\n",
       "    .dataframe tbody tr th {\n",
       "        vertical-align: top;\n",
       "    }\n",
       "\n",
       "    .dataframe thead th {\n",
       "        text-align: right;\n",
       "    }\n",
       "</style>\n",
       "<table border=\"1\" class=\"dataframe\">\n",
       "  <thead>\n",
       "    <tr style=\"text-align: right;\">\n",
       "      <th></th>\n",
       "      <th>YEAR</th>\n",
       "      <th>COUNTYFIPS</th>\n",
       "      <th>STATEFIPS</th>\n",
       "      <th>STATE</th>\n",
       "      <th>COUNTY</th>\n",
       "      <th>REGION</th>\n",
       "      <th>TERRITORY</th>\n",
       "      <th>ACS_TOT_POP_WT</th>\n",
       "      <th>ACS_TOT_POP_US_ABOVE1</th>\n",
       "      <th>ACS_TOT_POP_ABOVE5</th>\n",
       "      <th>...</th>\n",
       "      <th>POS_TOT_HOSP_AMBULANCE</th>\n",
       "      <th>POS_HOSP_AMBULANCE_RATE</th>\n",
       "      <th>POS_TOT_HOSP_CHEMO</th>\n",
       "      <th>POS_HOSP_CHEMO_RATE</th>\n",
       "      <th>POS_TOT_HOSP_ED</th>\n",
       "      <th>POS_HOSP_ED_RATE</th>\n",
       "      <th>POS_PCT_HOSP_FOR_PROFIT</th>\n",
       "      <th>POS_PCT_HOSP_NON_PROFIT</th>\n",
       "      <th>POS_PCT_HOSP_GOV</th>\n",
       "      <th>CEN_AIAN_NH_IND</th>\n",
       "    </tr>\n",
       "  </thead>\n",
       "  <tbody>\n",
       "    <tr>\n",
       "      <th>0</th>\n",
       "      <td>2017</td>\n",
       "      <td>1001</td>\n",
       "      <td>1</td>\n",
       "      <td>Alabama</td>\n",
       "      <td>Autauga County</td>\n",
       "      <td>South</td>\n",
       "      <td>0</td>\n",
       "      <td>55036.0</td>\n",
       "      <td>54293.0</td>\n",
       "      <td>51898.0</td>\n",
       "      <td>...</td>\n",
       "      <td>0.0</td>\n",
       "      <td>0.00</td>\n",
       "      <td>0.0</td>\n",
       "      <td>0.00</td>\n",
       "      <td>1.0</td>\n",
       "      <td>0.02</td>\n",
       "      <td>50.00</td>\n",
       "      <td>38.89</td>\n",
       "      <td>11.11</td>\n",
       "      <td>0.0</td>\n",
       "    </tr>\n",
       "    <tr>\n",
       "      <th>1</th>\n",
       "      <td>2017</td>\n",
       "      <td>1003</td>\n",
       "      <td>1</td>\n",
       "      <td>Alabama</td>\n",
       "      <td>Baldwin County</td>\n",
       "      <td>South</td>\n",
       "      <td>0</td>\n",
       "      <td>203360.0</td>\n",
       "      <td>201089.0</td>\n",
       "      <td>191854.0</td>\n",
       "      <td>...</td>\n",
       "      <td>0.0</td>\n",
       "      <td>0.00</td>\n",
       "      <td>0.0</td>\n",
       "      <td>0.00</td>\n",
       "      <td>3.0</td>\n",
       "      <td>0.01</td>\n",
       "      <td>63.49</td>\n",
       "      <td>36.51</td>\n",
       "      <td>0.00</td>\n",
       "      <td>0.0</td>\n",
       "    </tr>\n",
       "    <tr>\n",
       "      <th>2</th>\n",
       "      <td>2017</td>\n",
       "      <td>1005</td>\n",
       "      <td>1</td>\n",
       "      <td>Alabama</td>\n",
       "      <td>Barbour County</td>\n",
       "      <td>South</td>\n",
       "      <td>0</td>\n",
       "      <td>26201.0</td>\n",
       "      <td>25925.0</td>\n",
       "      <td>24765.0</td>\n",
       "      <td>...</td>\n",
       "      <td>0.0</td>\n",
       "      <td>0.00</td>\n",
       "      <td>0.0</td>\n",
       "      <td>0.00</td>\n",
       "      <td>1.0</td>\n",
       "      <td>0.04</td>\n",
       "      <td>73.33</td>\n",
       "      <td>20.00</td>\n",
       "      <td>6.67</td>\n",
       "      <td>0.0</td>\n",
       "    </tr>\n",
       "    <tr>\n",
       "      <th>3</th>\n",
       "      <td>2017</td>\n",
       "      <td>1007</td>\n",
       "      <td>1</td>\n",
       "      <td>Alabama</td>\n",
       "      <td>Bibb County</td>\n",
       "      <td>South</td>\n",
       "      <td>0</td>\n",
       "      <td>22580.0</td>\n",
       "      <td>22224.0</td>\n",
       "      <td>21301.0</td>\n",
       "      <td>...</td>\n",
       "      <td>1.0</td>\n",
       "      <td>0.04</td>\n",
       "      <td>1.0</td>\n",
       "      <td>0.04</td>\n",
       "      <td>1.0</td>\n",
       "      <td>0.04</td>\n",
       "      <td>27.27</td>\n",
       "      <td>45.45</td>\n",
       "      <td>27.27</td>\n",
       "      <td>0.0</td>\n",
       "    </tr>\n",
       "    <tr>\n",
       "      <th>4</th>\n",
       "      <td>2017</td>\n",
       "      <td>1009</td>\n",
       "      <td>1</td>\n",
       "      <td>Alabama</td>\n",
       "      <td>Blount County</td>\n",
       "      <td>South</td>\n",
       "      <td>0</td>\n",
       "      <td>57667.0</td>\n",
       "      <td>57088.0</td>\n",
       "      <td>54171.0</td>\n",
       "      <td>...</td>\n",
       "      <td>0.0</td>\n",
       "      <td>0.00</td>\n",
       "      <td>0.0</td>\n",
       "      <td>0.00</td>\n",
       "      <td>1.0</td>\n",
       "      <td>0.02</td>\n",
       "      <td>60.00</td>\n",
       "      <td>40.00</td>\n",
       "      <td>0.00</td>\n",
       "      <td>0.0</td>\n",
       "    </tr>\n",
       "  </tbody>\n",
       "</table>\n",
       "<p>5 rows × 967 columns</p>\n",
       "</div>"
      ],
      "text/plain": [
       "   YEAR  COUNTYFIPS  STATEFIPS    STATE          COUNTY REGION  TERRITORY  \\\n",
       "0  2017        1001          1  Alabama  Autauga County  South          0   \n",
       "1  2017        1003          1  Alabama  Baldwin County  South          0   \n",
       "2  2017        1005          1  Alabama  Barbour County  South          0   \n",
       "3  2017        1007          1  Alabama     Bibb County  South          0   \n",
       "4  2017        1009          1  Alabama   Blount County  South          0   \n",
       "\n",
       "   ACS_TOT_POP_WT  ACS_TOT_POP_US_ABOVE1  ACS_TOT_POP_ABOVE5  ...  \\\n",
       "0         55036.0                54293.0             51898.0  ...   \n",
       "1        203360.0               201089.0            191854.0  ...   \n",
       "2         26201.0                25925.0             24765.0  ...   \n",
       "3         22580.0                22224.0             21301.0  ...   \n",
       "4         57667.0                57088.0             54171.0  ...   \n",
       "\n",
       "   POS_TOT_HOSP_AMBULANCE  POS_HOSP_AMBULANCE_RATE  POS_TOT_HOSP_CHEMO  \\\n",
       "0                     0.0                     0.00                 0.0   \n",
       "1                     0.0                     0.00                 0.0   \n",
       "2                     0.0                     0.00                 0.0   \n",
       "3                     1.0                     0.04                 1.0   \n",
       "4                     0.0                     0.00                 0.0   \n",
       "\n",
       "   POS_HOSP_CHEMO_RATE  POS_TOT_HOSP_ED  POS_HOSP_ED_RATE  \\\n",
       "0                 0.00              1.0              0.02   \n",
       "1                 0.00              3.0              0.01   \n",
       "2                 0.00              1.0              0.04   \n",
       "3                 0.04              1.0              0.04   \n",
       "4                 0.00              1.0              0.02   \n",
       "\n",
       "   POS_PCT_HOSP_FOR_PROFIT  POS_PCT_HOSP_NON_PROFIT  POS_PCT_HOSP_GOV  \\\n",
       "0                    50.00                    38.89             11.11   \n",
       "1                    63.49                    36.51              0.00   \n",
       "2                    73.33                    20.00              6.67   \n",
       "3                    27.27                    45.45             27.27   \n",
       "4                    60.00                    40.00              0.00   \n",
       "\n",
       "   CEN_AIAN_NH_IND  \n",
       "0              0.0  \n",
       "1              0.0  \n",
       "2              0.0  \n",
       "3              0.0  \n",
       "4              0.0  \n",
       "\n",
       "[5 rows x 967 columns]"
      ]
     },
     "execution_count": 3,
     "metadata": {},
     "output_type": "execute_result"
    }
   ],
   "source": [
    "data_path = 'SDOH_2017.csv'\n",
    "sdoh_2017 = pd.read_csv(data_path)\n",
    "\n",
    "# Display the first few rows of the dataset to get an overview\n",
    "sdoh_2017.head()"
   ]
  },
  {
   "cell_type": "code",
   "execution_count": 4,
   "id": "fa6fc7f9-a2e4-4d38-b94f-c82f9b011896",
   "metadata": {
    "tags": []
   },
   "outputs": [
    {
     "data": {
      "text/plain": [
       "CAF_ADJ_COUNTY_14    99.969059\n",
       "CAF_ADJ_COUNTY_12    99.938119\n",
       "CAF_ADJ_COUNTY_13    99.938119\n",
       "CAF_ADJ_COUNTY_11    99.876238\n",
       "CAF_ADJ_COUNTY_10    99.535891\n",
       "                       ...    \n",
       "POS_TOT_NF            0.061881\n",
       "POS_NF_RATE           0.061881\n",
       "POS_TOT_NF_BEDS       0.061881\n",
       "POS_NF_BEDS_RATE      0.061881\n",
       "HRSA_MUA_COUNTY       0.061881\n",
       "Length: 961, dtype: float64"
      ]
     },
     "execution_count": 4,
     "metadata": {},
     "output_type": "execute_result"
    }
   ],
   "source": [
    "# Calculate the percentage of missing values for each column\n",
    "missing_values = sdoh_2017.isnull().mean() * 100\n",
    "\n",
    "# Display the columns with missing data\n",
    "missing_values_df = missing_values[missing_values > 0].sort_values(ascending=False)\n",
    "missing_values_df"
   ]
  },
  {
   "cell_type": "markdown",
   "id": "1d86be6b-ca17-490f-8b05-bc84329027fc",
   "metadata": {},
   "source": [
    "    Columns like CAF_ADJ_COUNTY_14, CAF_ADJ_COUNTY_12, and CAF_ADJ_COUNTY_13 have almost all their values missing (around 99.9% missing). These might be candidates for removal due to the scarcity of data.\n",
    "    Other columns have varying degrees of missing data, some with a significant portion missing."
   ]
  },
  {
   "cell_type": "code",
   "execution_count": 5,
   "id": "8ad5220c-085d-4f4f-881e-b5f73254fdf9",
   "metadata": {
    "tags": []
   },
   "outputs": [
    {
     "data": {
      "text/plain": [
       "(['CAF_ADJ_COUNTY_14',\n",
       "  'CAF_ADJ_COUNTY_12',\n",
       "  'CAF_ADJ_COUNTY_13',\n",
       "  'CAF_ADJ_COUNTY_11',\n",
       "  'CAF_ADJ_COUNTY_10',\n",
       "  'EPAA_MAX_PB_3MON',\n",
       "  'NEPHTN_PCT_ARSENIC_MCL_GREATER10',\n",
       "  'CAF_ADJ_COUNTY_9',\n",
       "  'CCBP_EORS_RATE',\n",
       "  'CDCAP_HIVDIAG_NHPI_RATE_ABOVE13',\n",
       "  'EPAA_2NDMAX_CO_8HR',\n",
       "  'EPAA_2NDMAX_CO_1HR',\n",
       "  'CDCW_MATERNAL_DTH_RATE',\n",
       "  'SEDA_MATH_GR8_WNG',\n",
       "  'EPAA_98PR_NO2_1HR',\n",
       "  'SEDA_ELA_GR8_WNG',\n",
       "  'SEDA_CS_MN_MATH_GR8_NAM',\n",
       "  'SEDA_CS_MN_ELA_GR8_NAM',\n",
       "  'EPAA_MEAN_NO2_1HR',\n",
       "  'CCBP_GAMBLING_RATE',\n",
       "  'SEDA_ELA_GR3_WNG',\n",
       "  'SEDA_CS_MN_ELA_GR3_NAM',\n",
       "  'SEDA_MATH_GR3_WNG',\n",
       "  'CDCAP_TUBERCULOSIS_RATE',\n",
       "  'ACS_MEDIAN_HH_INC_NHPI',\n",
       "  'EPAA_2NDMAX_PM10_24HR',\n",
       "  'EPAA_MEAN_WTD_PM10',\n",
       "  'EPAA_MEAN_SO2_1HR',\n",
       "  'EPAA_99PR_SO2_1HR',\n",
       "  'EPAA_2NDMAX_SO2_24HR',\n",
       "  'CAF_ADJ_COUNTY_8',\n",
       "  'SEDA_CS_MN_MATH_GR3_NAM',\n",
       "  'CCBP_CHS_RATE',\n",
       "  'SEDA_MATH_GR8_WAG',\n",
       "  'CCBP_SHELTERS_RATE',\n",
       "  'SEDA_CS_MN_MATH_GR8_ASN',\n",
       "  'SEDA_ELA_GR8_WAG',\n",
       "  'SEDA_ELA_GR3_WAG',\n",
       "  'SEDA_CS_MN_ELA_GR8_ASN',\n",
       "  'SEDA_CS_MN_ELA_GR3_ASN',\n",
       "  'CCBP_CFS_RATE',\n",
       "  'SEDA_MATH_GR3_WAG',\n",
       "  'SEDA_CS_MN_MATH_GR3_ASN',\n",
       "  'EPAA_98PR_PM25_DAILY',\n",
       "  'EPAA_MEAN_WTD_PM25',\n",
       "  'SEDA_MATH_GR8_WMG',\n",
       "  'SEDA_CS_MN_MATH_GR8_MTR',\n",
       "  'NEPHTN_AVG_MONAAAC_PM25',\n",
       "  'NEPHTN_PCT_MONPD_PM25',\n",
       "  'SEDA_ELA_GR8_WMG',\n",
       "  'CCBP_SFS_RATE',\n",
       "  'SEDA_CS_MN_ELA_GR8_MTR',\n",
       "  'CCBP_LAB_RATE',\n",
       "  'EPAA_4THMAX_O3_8HR',\n",
       "  'EPAA_2NDMAX_O3_1HR',\n",
       "  'NEPHTN_PCT_ARSENIC_MCL_NOTDETECT',\n",
       "  'CDCAP_HIVDIAG_AIAN_RATE_ABOVE13',\n",
       "  'SEDA_MATH_GR8_WBG',\n",
       "  'SEDA_ELA_GR3_WMG',\n",
       "  'SEDA_CS_MN_ELA_GR3_MTR',\n",
       "  'SEDA_MATH_GR3_WMG',\n",
       "  'SEDA_CS_MN_MATH_GR3_MTR',\n",
       "  'SEDA_CS_MN_MATH_GR8_BLK',\n",
       "  'NEPHTN_PCT_ARSENIC_MCL_LESS10',\n",
       "  'NEPHTN_ARSENIC_MEAN_POP',\n",
       "  'NEPHTN_ARSENIC_MEAN_CSW',\n",
       "  'SEDA_MATH_GR8_WHG',\n",
       "  'SEDA_CS_MN_MATH_GR8_HSP',\n",
       "  'SEDA_CS_TOT_MATH_GR8_NAM',\n",
       "  'CAF_ADJ_COUNTY_7',\n",
       "  'CDCW_ASSAULT_DTH_RATE',\n",
       "  'SEDA_ELA_GR8_WBG',\n",
       "  'AHRF_PCT_GOOD_AQ',\n",
       "  'AHRF_DAYS_AIR_QLT',\n",
       "  'CDCAP_HIVDIAG_ASN_RATE_ABOVE13',\n",
       "  'CDCAP_HIVDIAG_MTR_RATE_ABOVE13',\n",
       "  'SEDA_CS_MN_ELA_GR8_BLK',\n",
       "  'SEDA_ELA_GR8_WHG',\n",
       "  'SEDA_ELA_GR3_WBG',\n",
       "  'SEDA_MATH_GR3_WBG',\n",
       "  'SEDA_CS_MN_ELA_GR8_HSP',\n",
       "  'SEDA_CS_TOT_ELA_GR8_NAM',\n",
       "  'SEDA_CS_MN_ELA_GR3_BLK',\n",
       "  'SEDA_CS_MN_MATH_GR3_BLK',\n",
       "  'SEDA_CS_TOT_ELA_GR3_NAM',\n",
       "  'CHR_INFANT_DEATH_RATE',\n",
       "  'CCBP_FCRSC_RATE',\n",
       "  'SEDA_CS_TOT_MATH_GR8_ASN',\n",
       "  'SEDA_CS_TOT_MATH_GR3_NAM',\n",
       "  'SEDA_ELA_GR3_WHG',\n",
       "  'CCBP_RET_RATE',\n",
       "  'SEDA_CS_MN_ELA_GR3_HSP',\n",
       "  'ACS_MEDIAN_HH_INC_ASIAN',\n",
       "  'SEDA_MATH_GR3_WHG',\n",
       "  'CCBP_HOME_RATE',\n",
       "  'CDCAP_HIVDIAG_HIS_RATE_ABOVE13',\n",
       "  'ACS_MEDIAN_HH_INC_AIAN',\n",
       "  'SEDA_CS_MN_MATH_GR3_HSP',\n",
       "  'CCBP_BWLSTORES_RATE',\n",
       "  'CDCAP_HIVDIAG_BLK_RATE_ABOVE13',\n",
       "  'SEDA_CS_TOT_ELA_GR3_ASN',\n",
       "  'CDCA_PREV_DTH_HISP_RATE_BELOW74',\n",
       "  'SEDA_CS_TOT_ELA_GR8_ASN',\n",
       "  'SEDA_CS_TOT_MATH_GR8_BLK',\n",
       "  'AHA_HHI_SHRTTRM_ACUTE_DSCHR_CBSA',\n",
       "  'SEDA_CS_TOT_MATH_GR8_MTR',\n",
       "  'AHA_HHI_SHRTTRM_ACUTE_LOS_CBSA',\n",
       "  'AHA_HHI_SHRTTRM_ACUTE_ADMSN_CBSA',\n",
       "  'CDCW_OPIOID_DTH_RATE'],\n",
       " 858,\n",
       " 967)"
      ]
     },
     "execution_count": 5,
     "metadata": {},
     "output_type": "execute_result"
    }
   ],
   "source": [
    "# Define the threshold for removing columns\n",
    "threshold_percentage = 50\n",
    "\n",
    "# Identify columns with missing data above the threshold\n",
    "columns_to_drop = missing_values_df[missing_values_df > threshold_percentage].index.tolist()\n",
    "\n",
    "# Drop these columns from the dataset\n",
    "sdoh_2017_cleaned = sdoh_2017.drop(columns=columns_to_drop)\n",
    "\n",
    "# Remaining columns after dropping\n",
    "remaining_columns = sdoh_2017_cleaned.shape[1]\n",
    "total_columns = sdoh_2017.shape[1]\n",
    "\n",
    "columns_to_drop, remaining_columns, total_columns"
   ]
  },
  {
   "cell_type": "markdown",
   "id": "a2b800e5-e468-4904-a288-a2f5c510937d",
   "metadata": {},
   "source": [
    "I've removed columns that have more than 50% missing data, resulting in a reduction from 967 to 858 columns. "
   ]
  },
  {
   "cell_type": "markdown",
   "id": "21ba12ba-9b60-45b0-a03a-c3345ef26ede",
   "metadata": {},
   "source": [
    "# Handling Categorical Variables"
   ]
  },
  {
   "cell_type": "code",
   "execution_count": 6,
   "id": "e7de32d6-f9c9-447c-ba53-a004c92e9e51",
   "metadata": {
    "tags": []
   },
   "outputs": [
    {
     "data": {
      "text/plain": [
       "{'COUNTYFIPS': {'Expected': 'char', 'Actual': 'num'},\n",
       " 'STATEFIPS': {'Expected': 'char', 'Actual': 'num'},\n",
       " 'AHRF_USDA_RUCC_2013': {'Expected': 'char', 'Actual': 'num'},\n",
       " 'AHRF_HPSA_DENTIST': {'Expected': 'char', 'Actual': 'num'},\n",
       " 'AHRF_HPSA_MENTAL': {'Expected': 'char', 'Actual': 'num'},\n",
       " 'AHRF_HPSA_PRIM': {'Expected': 'char', 'Actual': 'num'},\n",
       " 'CAF_ADJ_COUNTY_1': {'Expected': 'char', 'Actual': 'num'},\n",
       " 'CAF_ADJ_COUNTY_2': {'Expected': 'char', 'Actual': 'num'},\n",
       " 'CAF_ADJ_COUNTY_3': {'Expected': 'char', 'Actual': 'num'},\n",
       " 'CAF_ADJ_COUNTY_4': {'Expected': 'char', 'Actual': 'num'},\n",
       " 'CAF_ADJ_COUNTY_5': {'Expected': 'char', 'Actual': 'num'},\n",
       " 'CAF_ADJ_COUNTY_6': {'Expected': 'char', 'Actual': 'num'},\n",
       " 'HRSA_MUA_COUNTY': {'Expected': 'char', 'Actual': 'num'},\n",
       " 'CEN_AIAN_NH_IND': {'Expected': 'char', 'Actual': 'num'}}"
      ]
     },
     "execution_count": 6,
     "metadata": {},
     "output_type": "execute_result"
    }
   ],
   "source": [
    "# Extract the expected data types from the codebook\n",
    "expected_data_types = codebook.set_index('Variable Name')['Type of Data (Numeric or Character)'].to_dict()\n",
    "\n",
    "# Filter expected types for remaining columns in the cleaned dataset\n",
    "expected_types_cleaned = {k: v for k, v in expected_data_types.items() if k in sdoh_2017_cleaned.columns}\n",
    "\n",
    "# Determine the actual data types of the remaining columns in the dataset\n",
    "actual_data_types = sdoh_2017_cleaned.dtypes.apply(lambda x: 'num' if 'int' in str(x) or 'float' in str(x) else 'char')\n",
    "\n",
    "# Compare expected and actual data types\n",
    "data_type_mismatches = {column: {'Expected': expected_types_cleaned[column], 'Actual': actual_data_types[column]}\n",
    "                        for column in expected_types_cleaned if expected_types_cleaned[column] != actual_data_types[column]}\n",
    "\n",
    "data_type_mismatches"
   ]
  },
  {
   "cell_type": "code",
   "execution_count": 7,
   "id": "b9ea283e-e922-4307-b111-140777a3c297",
   "metadata": {
    "tags": []
   },
   "outputs": [
    {
     "data": {
      "text/plain": [
       "(3232, 844)"
      ]
     },
     "execution_count": 7,
     "metadata": {},
     "output_type": "execute_result"
    }
   ],
   "source": [
    "# List of columns to drop\n",
    "columns_to_drop_due_to_type_mismatch = [\n",
    "    'COUNTYFIPS', 'STATEFIPS', 'AHRF_USDA_RUCC_2013', 'AHRF_HPSA_DENTIST', \n",
    "    'AHRF_HPSA_MENTAL', 'AHRF_HPSA_PRIM', 'CAF_ADJ_COUNTY_1', 'CAF_ADJ_COUNTY_2', \n",
    "    'CAF_ADJ_COUNTY_3', 'CAF_ADJ_COUNTY_4', 'CAF_ADJ_COUNTY_5', 'CAF_ADJ_COUNTY_6', \n",
    "    'HRSA_MUA_COUNTY', 'CEN_AIAN_NH_IND'\n",
    "]\n",
    "\n",
    "# Drop these columns from the dataset\n",
    "sdoh_2017_cleaned = sdoh_2017_cleaned.drop(columns=columns_to_drop_due_to_type_mismatch)\n",
    "\n",
    "# Display the shape of the updated dataset to confirm columns are dropped\n",
    "sdoh_2017_cleaned.shape\n"
   ]
  },
  {
   "cell_type": "markdown",
   "id": "5c2f62f5-91c9-4a2e-8f97-ff7d24e19e2b",
   "metadata": {},
   "source": [
    "I've dropped the columns that had type mismatches and were deemed not important such as CountyFIPS, StateFIPS etc, reducing the dataset to 844 columns."
   ]
  },
  {
   "cell_type": "code",
   "execution_count": 8,
   "id": "ff1f8813-1f2b-4c92-aa19-c8d9755b0914",
   "metadata": {
    "tags": []
   },
   "outputs": [
    {
     "data": {
      "text/plain": [
       "{'STATE': array(['Alabama', 'Alaska', 'Arizona', 'Arkansas', 'California',\n",
       "        'Colorado', 'Connecticut', 'Delaware', 'District of Columbia',\n",
       "        'Florida', 'Georgia', 'Hawaii', 'Idaho', 'Illinois', 'Indiana',\n",
       "        'Iowa', 'Kansas', 'Kentucky', 'Louisiana', 'Maine', 'Maryland',\n",
       "        'Massachusetts', 'Michigan', 'Minnesota', 'Mississippi',\n",
       "        'Missouri', 'Montana', 'Nebraska', 'Nevada', 'New Hampshire',\n",
       "        'New Jersey', 'New Mexico', 'New York', 'North Carolina',\n",
       "        'North Dakota', 'Ohio', 'Oklahoma', 'Oregon', 'Pennsylvania',\n",
       "        'Rhode Island', 'South Carolina', 'South Dakota', 'Tennessee',\n",
       "        'Texas', 'Utah', 'Vermont', 'Virginia', 'Washington',\n",
       "        'West Virginia', 'Wisconsin', 'Wyoming', 'American Samoa', 'Guam',\n",
       "        'Northern Mariana Islands', 'Puerto Rico', 'US Virgin Islands'],\n",
       "       dtype=object),\n",
       " 'REGION': array(['South', 'West', 'Northeast', 'Midwest', nan], dtype=object)}"
      ]
     },
     "execution_count": 8,
     "metadata": {},
     "output_type": "execute_result"
    }
   ],
   "source": [
    "# Selecting a few categorical variables to inspect\n",
    "categorical_columns = ['STATE', 'REGION']\n",
    "\n",
    "# Display unique values for each of these selected categorical variables\n",
    "unique_values_categorical = {column: sdoh_2017_cleaned[column].unique() for column in categorical_columns}\n",
    "unique_values_categorical"
   ]
  },
  {
   "cell_type": "markdown",
   "id": "9597a7f9-c01f-4a5c-ba17-8ce1503bbbd7",
   "metadata": {},
   "source": [
    "STATE: Includes all U.S. states, as well as territories like American Samoa, Guam, Northern Mariana Islands, Puerto Rico, and US Virgin Islands. There don't appear to be any inconsistencies here.\n",
    "\n",
    "REGION: Contains the four primary U.S. census regions—South, West, Northeast, Midwest—along with a nan value indicating missing data in some entries."
   ]
  },
  {
   "cell_type": "code",
   "execution_count": 9,
   "id": "62a5e647-8610-4785-ab38-925fd3958ac9",
   "metadata": {
    "tags": []
   },
   "outputs": [
    {
     "data": {
      "text/plain": [
       "90"
      ]
     },
     "execution_count": 9,
     "metadata": {},
     "output_type": "execute_result"
    }
   ],
   "source": [
    "# Create a mapping from state to region by dropping NA values and setting state as index\n",
    "state_to_region = sdoh_2017_cleaned.dropna(subset=['REGION']).set_index('STATE')['REGION'].to_dict()\n",
    "\n",
    "# Fill missing values in REGION based on the state-to-region mapping\n",
    "sdoh_2017_cleaned['REGION'] = sdoh_2017_cleaned['REGION'].fillna(sdoh_2017_cleaned['STATE'].map(state_to_region))\n",
    "\n",
    "# Check if there are any missing values in REGION\n",
    "missing_values_region = sdoh_2017_cleaned['REGION'].isnull().sum()\n",
    "\n",
    "missing_values_region"
   ]
  },
  {
   "cell_type": "markdown",
   "id": "3bcf8c2c-dcb2-412f-a4f0-217d1dca0af0",
   "metadata": {},
   "source": [
    "It seems that we encountered an issue while imputing the missing values in the \"REGION\" column. The error indicates that \"American Samoa\" was not included in our mapping from states to regions, likely because it is not assigned to a U.S. census region in our dataset."
   ]
  },
  {
   "cell_type": "code",
   "execution_count": 10,
   "id": "13fc997f-94f1-4095-8b34-483cff396484",
   "metadata": {
    "tags": []
   },
   "outputs": [
    {
     "data": {
      "text/plain": [
       "(6, 0)"
      ]
     },
     "execution_count": 10,
     "metadata": {},
     "output_type": "execute_result"
    }
   ],
   "source": [
    "# Count occurrences of 'American Samoa' to decide on removal\n",
    "american_samoa_count = sdoh_2017_cleaned[sdoh_2017_cleaned['STATE'] == 'American Samoa'].shape[0]\n",
    "\n",
    "# Remove rows where 'STATE' is 'American Samoa'\n",
    "if american_samoa_count > 0:\n",
    "    sdoh_2017_cleaned = sdoh_2017_cleaned[sdoh_2017_cleaned['STATE'] != 'American Samoa']\n",
    "\n",
    "# Confirm removal\n",
    "remaining_american_samoa_count = sdoh_2017_cleaned[sdoh_2017_cleaned['STATE'] == 'American Samoa'].shape[0]\n",
    "american_samoa_count, remaining_american_samoa_count"
   ]
  },
  {
   "cell_type": "markdown",
   "id": "8dc580b5-636a-49ab-abe2-5fb0c322cee1",
   "metadata": {},
   "source": [
    "# Handling Numerical Data"
   ]
  },
  {
   "cell_type": "code",
   "execution_count": 11,
   "id": "01cbba57-892a-4706-b594-39c46e2b5254",
   "metadata": {
    "tags": []
   },
   "outputs": [
    {
     "data": {
      "text/plain": [
       "{'ACS_TOT_POP_WT': {'lower_outliers': 0, 'upper_outliers': 436},\n",
       " 'POS_TOT_HOSP_ED': {'lower_outliers': 0, 'upper_outliers': 196},\n",
       " 'POS_HOSP_ED_RATE': {'lower_outliers': 0, 'upper_outliers': 295},\n",
       " 'POS_PCT_HOSP_FOR_PROFIT': {'lower_outliers': 174, 'upper_outliers': 0}}"
      ]
     },
     "execution_count": 11,
     "metadata": {},
     "output_type": "execute_result"
    }
   ],
   "source": [
    "# Selecting a few numerical columns as examples\n",
    "numerical_columns_example = ['ACS_TOT_POP_WT', 'POS_TOT_HOSP_ED', 'POS_HOSP_ED_RATE', 'POS_PCT_HOSP_FOR_PROFIT']\n",
    "\n",
    "# Calculate the interquartile range (IQR) for these columns\n",
    "numerical_descriptions = sdoh_2017_cleaned[numerical_columns_example].describe()\n",
    "Q1 = numerical_descriptions.loc['25%']\n",
    "Q3 = numerical_descriptions.loc['75%']\n",
    "IQR = Q3 - Q1\n",
    "\n",
    "# Define the bounds for outliers\n",
    "lower_bound = Q1 - 1.5 * IQR\n",
    "upper_bound = Q3 + 1.5 * IQR\n",
    "\n",
    "# Summarize the potential outliers\n",
    "outliers_summary = {}\n",
    "for col in numerical_columns_example:\n",
    "    outliers_summary[col] = {\n",
    "        'lower_outliers': sdoh_2017_cleaned[col][sdoh_2017_cleaned[col] < lower_bound[col]].count(),\n",
    "        'upper_outliers': sdoh_2017_cleaned[col][sdoh_2017_cleaned[col] > upper_bound[col]].count()\n",
    "    }\n",
    "\n",
    "outliers_summary\n"
   ]
  },
  {
   "cell_type": "markdown",
   "id": "593cb701-8988-43e7-9151-3267e73b8c6e",
   "metadata": {},
   "source": [
    "Here are the results from our outlier detection analysis for the selected numerical variables:\n",
    "\n",
    "ACS_TOT_POP_WT (Total Population Weighted)\n",
    "Upper Outliers: 436\n",
    "No lower outliers detected.\n",
    "\n",
    "POS_TOT_HOSP_ED (Total Hospitals with Emergency Departments)\n",
    "Upper Outliers: 196\n",
    "No lower outliers detected.\n",
    "\n",
    "POS_HOSP_ED_RATE (Rate of Hospitals with Emergency Departments)\n",
    "Upper Outliers: 295\n",
    "No lower outliers detected.\n",
    "\n",
    "POS_PCT_HOSP_FOR_PROFIT (Percentage of Hospitals that are For-Profit)\n",
    "Lower Outliers: 174\n",
    "No upper outliers detected."
   ]
  },
  {
   "cell_type": "code",
   "execution_count": 12,
   "id": "c9a4ab93-093f-40e3-85fc-181a0c5f4748",
   "metadata": {
    "tags": []
   },
   "outputs": [
    {
     "data": {
      "text/plain": [
       "SEDA_CS_TOT_MATH_GR3_ASN    1595\n",
       "ACS_PCT_POV_NHPI            1573\n",
       "ACS_MEDIAN_HH_INC_OTHER     1545\n",
       "ACS_PCT_NHPI_MALE           1486\n",
       "ACS_PCT_NHPI_FEMALE         1486\n",
       "                            ... \n",
       "POS_ASC_RATE                   1\n",
       "POS_TOT_NF                     1\n",
       "POS_NF_RATE                    1\n",
       "POS_TOT_NF_BEDS                1\n",
       "POS_PCT_HOSP_GOV               1\n",
       "Length: 839, dtype: int64"
      ]
     },
     "execution_count": 12,
     "metadata": {},
     "output_type": "execute_result"
    }
   ],
   "source": [
    "# Identify numerical columns with missing values\n",
    "numerical_columns_with_na = sdoh_2017_cleaned.select_dtypes(include=[np.number]).columns\n",
    "numerical_na_counts = sdoh_2017_cleaned[numerical_columns_with_na].isna().sum()\n",
    "numerical_columns_with_missing = numerical_na_counts[numerical_na_counts > 0].sort_values(ascending=False)\n",
    "\n",
    "# Display columns with missing values and their count of missing data\n",
    "numerical_columns_with_missing"
   ]
  },
  {
   "cell_type": "code",
   "execution_count": 13,
   "id": "24724f21-3e77-4f33-9a36-603b472e8880",
   "metadata": {
    "tags": []
   },
   "outputs": [
    {
     "data": {
      "image/png": "[encoded data removed]",
      "text/plain": [
       "<Figure size 1800x500 with 3 Axes>"
      ]
     },
     "metadata": {},
     "output_type": "display_data"
    },
    {
     "data": {
      "text/html": [
       "<div>\n",
       "<style scoped>\n",
       "    .dataframe tbody tr th:only-of-type {\n",
       "        vertical-align: middle;\n",
       "    }\n",
       "\n",
       "    .dataframe tbody tr th {\n",
       "        vertical-align: top;\n",
       "    }\n",
       "\n",
       "    .dataframe thead th {\n",
       "        text-align: right;\n",
       "    }\n",
       "</style>\n",
       "<table border=\"1\" class=\"dataframe\">\n",
       "  <thead>\n",
       "    <tr style=\"text-align: right;\">\n",
       "      <th></th>\n",
       "      <th>SEDA_CS_TOT_MATH_GR3_ASN</th>\n",
       "      <th>ACS_MEDIAN_HH_INC_OTHER</th>\n",
       "      <th>POS_PCT_HOSP_GOV</th>\n",
       "    </tr>\n",
       "  </thead>\n",
       "  <tbody>\n",
       "    <tr>\n",
       "      <th>count</th>\n",
       "      <td>1631.000000</td>\n",
       "      <td>1681.000000</td>\n",
       "      <td>3225.000000</td>\n",
       "    </tr>\n",
       "    <tr>\n",
       "      <th>mean</th>\n",
       "      <td>109.787247</td>\n",
       "      <td>44075.870315</td>\n",
       "      <td>10.746471</td>\n",
       "    </tr>\n",
       "    <tr>\n",
       "      <th>std</th>\n",
       "      <td>519.022432</td>\n",
       "      <td>19596.471210</td>\n",
       "      <td>15.705649</td>\n",
       "    </tr>\n",
       "    <tr>\n",
       "      <th>min</th>\n",
       "      <td>1.000000</td>\n",
       "      <td>2499.000000</td>\n",
       "      <td>0.000000</td>\n",
       "    </tr>\n",
       "    <tr>\n",
       "      <th>25%</th>\n",
       "      <td>3.000000</td>\n",
       "      <td>31842.000000</td>\n",
       "      <td>0.000000</td>\n",
       "    </tr>\n",
       "    <tr>\n",
       "      <th>50%</th>\n",
       "      <td>7.000000</td>\n",
       "      <td>41697.000000</td>\n",
       "      <td>5.000000</td>\n",
       "    </tr>\n",
       "    <tr>\n",
       "      <th>75%</th>\n",
       "      <td>32.000000</td>\n",
       "      <td>52426.000000</td>\n",
       "      <td>14.290000</td>\n",
       "    </tr>\n",
       "    <tr>\n",
       "      <th>max</th>\n",
       "      <td>10783.000000</td>\n",
       "      <td>250001.000000</td>\n",
       "      <td>100.000000</td>\n",
       "    </tr>\n",
       "  </tbody>\n",
       "</table>\n",
       "</div>"
      ],
      "text/plain": [
       "       SEDA_CS_TOT_MATH_GR3_ASN  ACS_MEDIAN_HH_INC_OTHER  POS_PCT_HOSP_GOV\n",
       "count               1631.000000              1681.000000       3225.000000\n",
       "mean                 109.787247             44075.870315         10.746471\n",
       "std                  519.022432             19596.471210         15.705649\n",
       "min                    1.000000              2499.000000          0.000000\n",
       "25%                    3.000000             31842.000000          0.000000\n",
       "50%                    7.000000             41697.000000          5.000000\n",
       "75%                   32.000000             52426.000000         14.290000\n",
       "max                10783.000000            250001.000000        100.000000"
      ]
     },
     "execution_count": 13,
     "metadata": {},
     "output_type": "execute_result"
    }
   ],
   "source": [
    "# Select a representative sample of columns to analyze\n",
    "sample_columns = ['SEDA_CS_TOT_MATH_GR3_ASN', 'ACS_MEDIAN_HH_INC_OTHER', 'POS_PCT_HOSP_GOV']\n",
    "\n",
    "# Generate descriptive statistics for the selected columns\n",
    "descriptive_stats = sdoh_2017_cleaned[sample_columns].describe()\n",
    "\n",
    "# Plot histograms for the selected columns to visualize their distributions\n",
    "fig, axes = plt.subplots(nrows=1, ncols=3, figsize=(18, 5))\n",
    "for ax, column in zip(axes, sample_columns):\n",
    "    sdoh_2017_cleaned[column].dropna().hist(ax=ax, bins=30)\n",
    "    ax.set_title(f'Distribution of {column}')\n",
    "    ax.set_xlabel(column)\n",
    "    ax.set_ylabel('Frequency')\n",
    "\n",
    "plt.tight_layout()\n",
    "plt.show()\n",
    "\n",
    "descriptive_stats"
   ]
  },
  {
   "cell_type": "markdown",
   "id": "9b9e79f4-4e70-4c41-8d26-faac768b1eb7",
   "metadata": {},
   "source": [
    "1. SEDA_CS_TOT_MATH_GR3_ASN (Total Math Grade 3, Asian Students):\n",
    "    Highly right-skewed distribution with a significant range.\n",
    "    Contains extreme values, suggesting outliers or very uneven distribution.\n",
    "    Mean is significantly higher than the median, reflecting the skew.\n",
    "\n",
    "2. ACS_MEDIAN_HH_INC_OTHER (Median Household Income, Other):\n",
    "    Right-skewed distribution, typical for income data.\n",
    "    Variability is moderate, with a range from very low to very high values.\n",
    "\n",
    "3. POS_PCT_HOSP_GOV (Percentage of Hospitals Governed by Government):\n",
    "    A mix of many zeros and some higher values, possibly bimodal.\n",
    "    Right-skewed due to many counties with no government hospitals and a few with a high percentage."
   ]
  },
  {
   "cell_type": "code",
   "execution_count": 14,
   "id": "9a0aa36a-47c1-4b5d-928a-b4cb9fe0c2f1",
   "metadata": {
    "tags": []
   },
   "outputs": [
    {
     "data": {
      "text/plain": [
       "{'SEDA_CS_TOT_MATH_GR3_ASN': 0,\n",
       " 'ACS_MEDIAN_HH_INC_OTHER': 0,\n",
       " 'POS_PCT_HOSP_GOV': 0}"
      ]
     },
     "execution_count": 14,
     "metadata": {},
     "output_type": "execute_result"
    }
   ],
   "source": [
    "from scipy.stats import mode\n",
    "\n",
    "# Median imputation for 'SEDA_CS_TOT_MATH_GR3_ASN' and 'ACS_MEDIAN_HH_INC_OTHER'\n",
    "median_values = {\n",
    "    'SEDA_CS_TOT_MATH_GR3_ASN': sdoh_2017_cleaned['SEDA_CS_TOT_MATH_GR3_ASN'].median(),\n",
    "    'ACS_MEDIAN_HH_INC_OTHER': sdoh_2017_cleaned['ACS_MEDIAN_HH_INC_OTHER'].median()\n",
    "}\n",
    "sdoh_2017_cleaned['SEDA_CS_TOT_MATH_GR3_ASN'].fillna(median_values['SEDA_CS_TOT_MATH_GR3_ASN'], inplace=True)\n",
    "sdoh_2017_cleaned['ACS_MEDIAN_HH_INC_OTHER'].fillna(median_values['ACS_MEDIAN_HH_INC_OTHER'], inplace=True)\n",
    "\n",
    "# Mode imputation for 'POS_PCT_HOSP_GOV'\n",
    "mode_value = mode(sdoh_2017_cleaned['POS_PCT_HOSP_GOV'].dropna())[0][0]\n",
    "sdoh_2017_cleaned['POS_PCT_HOSP_GOV'].fillna(mode_value, inplace=True)\n",
    "\n",
    "# Confirm imputation by checking if there are any missing values left in these columns\n",
    "imputation_check = {\n",
    "    'SEDA_CS_TOT_MATH_GR3_ASN': sdoh_2017_cleaned['SEDA_CS_TOT_MATH_GR3_ASN'].isnull().sum(),\n",
    "    'ACS_MEDIAN_HH_INC_OTHER': sdoh_2017_cleaned['ACS_MEDIAN_HH_INC_OTHER'].isnull().sum(),\n",
    "    'POS_PCT_HOSP_GOV': sdoh_2017_cleaned['POS_PCT_HOSP_GOV'].isnull().sum()\n",
    "}\n",
    "imputation_check\n"
   ]
  },
  {
   "cell_type": "code",
   "execution_count": 15,
   "id": "dd119e1a-ebe2-4941-a069-440574a6e2fb",
   "metadata": {
    "tags": []
   },
   "outputs": [
    {
     "data": {
      "text/plain": [
       "116279"
      ]
     },
     "execution_count": 15,
     "metadata": {},
     "output_type": "execute_result"
    }
   ],
   "source": [
    "# Check for any remaining missing values in the entire cleaned dataset\n",
    "total_missing_values = sdoh_2017_cleaned.isnull().sum().sum()\n",
    "\n",
    "# Check if there are any missing values\n",
    "total_missing_values\n"
   ]
  },
  {
   "cell_type": "code",
   "execution_count": 16,
   "id": "04e62312-478c-42d6-b2ac-2b951644241d",
   "metadata": {
    "tags": []
   },
   "outputs": [
    {
     "data": {
      "image/png": "[encoded data removed]",
      "text/plain": [
       "<Figure size 2500x500 with 5 Axes>"
      ]
     },
     "metadata": {},
     "output_type": "display_data"
    },
    {
     "data": {
      "text/html": [
       "<div>\n",
       "<style scoped>\n",
       "    .dataframe tbody tr th:only-of-type {\n",
       "        vertical-align: middle;\n",
       "    }\n",
       "\n",
       "    .dataframe tbody tr th {\n",
       "        vertical-align: top;\n",
       "    }\n",
       "\n",
       "    .dataframe thead th {\n",
       "        text-align: right;\n",
       "    }\n",
       "</style>\n",
       "<table border=\"1\" class=\"dataframe\">\n",
       "  <thead>\n",
       "    <tr style=\"text-align: right;\">\n",
       "      <th></th>\n",
       "      <th>SEDA_CS_TOT_MATH_GR3_ASN</th>\n",
       "      <th>ACS_PCT_POV_NHPI</th>\n",
       "      <th>ACS_MEDIAN_HH_INC_OTHER</th>\n",
       "      <th>ACS_PCT_NHPI_MALE</th>\n",
       "      <th>ACS_PCT_NHPI_FEMALE</th>\n",
       "    </tr>\n",
       "  </thead>\n",
       "  <tbody>\n",
       "    <tr>\n",
       "      <th>count</th>\n",
       "      <td>3226.000000</td>\n",
       "      <td>1653.000000</td>\n",
       "      <td>3226.000000</td>\n",
       "      <td>1740.000000</td>\n",
       "      <td>1740.000000</td>\n",
       "    </tr>\n",
       "    <tr>\n",
       "      <th>mean</th>\n",
       "      <td>58.967142</td>\n",
       "      <td>23.162341</td>\n",
       "      <td>42936.578735</td>\n",
       "      <td>49.261718</td>\n",
       "      <td>50.738310</td>\n",
       "    </tr>\n",
       "    <tr>\n",
       "      <th>std</th>\n",
       "      <td>372.552966</td>\n",
       "      <td>34.439949</td>\n",
       "      <td>14193.702287</td>\n",
       "      <td>35.730671</td>\n",
       "      <td>35.730668</td>\n",
       "    </tr>\n",
       "    <tr>\n",
       "      <th>min</th>\n",
       "      <td>1.000000</td>\n",
       "      <td>0.000000</td>\n",
       "      <td>2499.000000</td>\n",
       "      <td>0.000000</td>\n",
       "      <td>0.000000</td>\n",
       "    </tr>\n",
       "    <tr>\n",
       "      <th>25%</th>\n",
       "      <td>7.000000</td>\n",
       "      <td>0.000000</td>\n",
       "      <td>41135.000000</td>\n",
       "      <td>17.022500</td>\n",
       "      <td>20.000000</td>\n",
       "    </tr>\n",
       "    <tr>\n",
       "      <th>50%</th>\n",
       "      <td>7.000000</td>\n",
       "      <td>0.000000</td>\n",
       "      <td>41697.000000</td>\n",
       "      <td>49.860000</td>\n",
       "      <td>50.140000</td>\n",
       "    </tr>\n",
       "    <tr>\n",
       "      <th>75%</th>\n",
       "      <td>7.000000</td>\n",
       "      <td>35.060000</td>\n",
       "      <td>42245.500000</td>\n",
       "      <td>80.000000</td>\n",
       "      <td>82.977500</td>\n",
       "    </tr>\n",
       "    <tr>\n",
       "      <th>max</th>\n",
       "      <td>10783.000000</td>\n",
       "      <td>100.000000</td>\n",
       "      <td>250001.000000</td>\n",
       "      <td>100.000000</td>\n",
       "      <td>100.000000</td>\n",
       "    </tr>\n",
       "  </tbody>\n",
       "</table>\n",
       "</div>"
      ],
      "text/plain": [
       "       SEDA_CS_TOT_MATH_GR3_ASN  ACS_PCT_POV_NHPI  ACS_MEDIAN_HH_INC_OTHER  \\\n",
       "count               3226.000000       1653.000000              3226.000000   \n",
       "mean                  58.967142         23.162341             42936.578735   \n",
       "std                  372.552966         34.439949             14193.702287   \n",
       "min                    1.000000          0.000000              2499.000000   \n",
       "25%                    7.000000          0.000000             41135.000000   \n",
       "50%                    7.000000          0.000000             41697.000000   \n",
       "75%                    7.000000         35.060000             42245.500000   \n",
       "max                10783.000000        100.000000            250001.000000   \n",
       "\n",
       "       ACS_PCT_NHPI_MALE  ACS_PCT_NHPI_FEMALE  \n",
       "count        1740.000000          1740.000000  \n",
       "mean           49.261718            50.738310  \n",
       "std            35.730671            35.730668  \n",
       "min             0.000000             0.000000  \n",
       "25%            17.022500            20.000000  \n",
       "50%            49.860000            50.140000  \n",
       "75%            80.000000            82.977500  \n",
       "max           100.000000           100.000000  "
      ]
     },
     "execution_count": 16,
     "metadata": {},
     "output_type": "execute_result"
    }
   ],
   "source": [
    "# Select a sample of numerical columns with missing values for detailed analysis\n",
    "sample_numerical_columns = numerical_columns_with_missing.index[:5]  # Take the top 5 with missing values for analysis\n",
    "\n",
    "# Generate descriptive statistics and plot distributions for these columns\n",
    "descriptive_stats_sample = sdoh_2017_cleaned[sample_numerical_columns].describe()\n",
    "\n",
    "# Plot histograms for the sample columns to visualize their distributions\n",
    "fig, axes = plt.subplots(nrows=1, ncols=5, figsize=(25, 5))\n",
    "for ax, column in zip(axes, sample_numerical_columns):\n",
    "    sdoh_2017_cleaned[column].dropna().hist(ax=ax, bins=30)\n",
    "    ax.set_title(f'Distribution of {column}')\n",
    "    ax.set_xlabel(column)\n",
    "    ax.set_ylabel('Frequency')\n",
    "\n",
    "plt.tight_layout()\n",
    "plt.show()\n",
    "\n",
    "descriptive_stats_sample\n"
   ]
  },
  {
   "cell_type": "code",
   "execution_count": 17,
   "id": "1107bfd8-81df-4626-8bab-889d12cb9849",
   "metadata": {
    "tags": []
   },
   "outputs": [
    {
     "data": {
      "text/plain": [
       "{'SEDA_CS_TOT_MATH_GR3_ASN': 0,\n",
       " 'ACS_PCT_POV_NHPI': 0,\n",
       " 'ACS_MEDIAN_HH_INC_OTHER': 0,\n",
       " 'ACS_PCT_NHPI_MALE': 0,\n",
       " 'ACS_PCT_NHPI_FEMALE': 0}"
      ]
     },
     "execution_count": 17,
     "metadata": {},
     "output_type": "execute_result"
    }
   ],
   "source": [
    "# Apply median imputation to the selected sample columns\n",
    "for column in sample_numerical_columns:\n",
    "    median_value = sdoh_2017_cleaned[column].median()\n",
    "    sdoh_2017_cleaned[column].fillna(median_value, inplace=True)\n",
    "\n",
    "# Check if there are any remaining missing values in these sample columns\n",
    "sample_missing_check = {col: sdoh_2017_cleaned[col].isnull().sum() for col in sample_numerical_columns}\n",
    "sample_missing_check\n"
   ]
  },
  {
   "cell_type": "code",
   "execution_count": 18,
   "id": "2d03710c-fbde-4cdb-8e4d-b85bff6c0680",
   "metadata": {
    "tags": []
   },
   "outputs": [
    {
     "data": {
      "text/plain": [
       "84"
      ]
     },
     "execution_count": 18,
     "metadata": {},
     "output_type": "execute_result"
    }
   ],
   "source": [
    "# Apply median imputation to the rest of the numerical columns with missing values\n",
    "remaining_numerical_columns_with_missing = numerical_columns_with_missing.index.drop(sample_numerical_columns)\n",
    "\n",
    "for column in remaining_numerical_columns_with_missing:\n",
    "    median_value = sdoh_2017_cleaned[column].median()\n",
    "    sdoh_2017_cleaned[column].fillna(median_value, inplace=True)\n",
    "\n",
    "# Check if there are any remaining missing values in the dataset\n",
    "total_missing_after_imputation = sdoh_2017_cleaned.isnull().sum().sum()\n",
    "total_missing_after_imputation\n"
   ]
  },
  {
   "cell_type": "code",
   "execution_count": 19,
   "id": "5866b14e-e901-40e3-b02a-8e5d5f39e40e",
   "metadata": {
    "tags": []
   },
   "outputs": [
    {
     "data": {
      "text/plain": [
       "(84,\n",
       " ['ACS_PCT_MULT_RACE',\n",
       "  'ACS_PCT_MULT_RACE_FEMALE',\n",
       "  'ACS_PCT_MULT_RACE_MALE',\n",
       "  'ACS_PCT_MULT_RACE_NONHISP',\n",
       "  'ACS_PCT_OTHER_RACE'])"
      ]
     },
     "execution_count": 19,
     "metadata": {},
     "output_type": "execute_result"
    }
   ],
   "source": [
    "# Check again for any remaining missing values in the entire cleaned dataset\n",
    "final_missing_values_check = sdoh_2017_cleaned.isnull().sum().sum()\n",
    "\n",
    "# Check for columns that may be related to \"race\"\n",
    "race_related_columns = [col for col in sdoh_2017_cleaned.columns if 'race' in col.lower() or 'ethnic' in col.lower()]\n",
    "\n",
    "final_missing_values_check, race_related_columns\n"
   ]
  },
  {
   "cell_type": "code",
   "execution_count": 20,
   "id": "1f78637f-8d87-472c-a85d-4a50503324bb",
   "metadata": {
    "tags": []
   },
   "outputs": [
    {
     "data": {
      "text/plain": [
       "REGION    84\n",
       "dtype: int64"
      ]
     },
     "execution_count": 20,
     "metadata": {},
     "output_type": "execute_result"
    }
   ],
   "source": [
    "# Check for columns with missing values and their count\n",
    "columns_with_missing_values = sdoh_2017_cleaned.isnull().sum()\n",
    "columns_with_missing_values = columns_with_missing_values[columns_with_missing_values > 0]\n",
    "columns_with_missing_values\n"
   ]
  },
  {
   "cell_type": "code",
   "execution_count": 25,
   "id": "f83d5ea3-0439-415d-a8da-206dbd803e55",
   "metadata": {
    "tags": []
   },
   "outputs": [
    {
     "data": {
      "text/plain": [
       "84"
      ]
     },
     "execution_count": 25,
     "metadata": {},
     "output_type": "execute_result"
    }
   ],
   "source": [
    "# Group the data by 'STATE' and fill missing 'REGION' values with the mode of the group\n",
    "sdoh_2017_cleaned['REGION'] = sdoh_2017_cleaned.groupby('STATE')['REGION'].transform(lambda x: x.fillna(mode(x)[0][0] if len(x.dropna()) > 0 else np.nan))\n",
    "\n",
    "# Check if there are any missing values in 'REGION' after imputation\n",
    "missing_values_region_after_imputation = sdoh_2017_cleaned['REGION'].isnull().sum() \n",
    "missing_values_region_after_imputation"
   ]
  },
  {
   "cell_type": "code",
   "execution_count": 26,
   "id": "b5cbeaa4-2907-40bb-b9db-3f9d3aa85d11",
   "metadata": {
    "tags": []
   },
   "outputs": [
    {
     "name": "stdout",
     "output_type": "stream",
     "text": [
      "Missing values in 'REGION' after safe mode-based imputation: 84\n"
     ]
    }
   ],
   "source": [
    "# Define a custom function to safely apply mode imputation\n",
    "def safe_mode_impute(x):\n",
    "    if not x.mode().empty:\n",
    "        return x.fillna(x.mode().iloc[0])\n",
    "    else:\n",
    "        return x  # Returns the original series if mode calculation is not possible\n",
    "\n",
    "# Group the data by 'STATE' and fill missing 'REGION' values using the safe mode function\n",
    "sdoh_2017_cleaned['REGION'] = sdoh_2017_cleaned.groupby('STATE')['REGION'].transform(safe_mode_impute)\n",
    "\n",
    "# Verify that there are no more missing values in the 'REGION' column\n",
    "missing_values_after_safe_mode_imputation = sdoh_2017_cleaned['REGION'].isnull().sum()\n",
    "print(\"Missing values in 'REGION' after safe mode-based imputation:\", missing_values_after_safe_mode_imputation)\n"
   ]
  },
  {
   "cell_type": "code",
   "execution_count": 27,
   "id": "3c2d6912-5413-430c-960e-0a6f1e83e74f",
   "metadata": {
    "tags": []
   },
   "outputs": [
    {
     "name": "stdout",
     "output_type": "stream",
     "text": [
      "Missing values in 'REGION' after overall mode imputation: 0\n"
     ]
    }
   ],
   "source": [
    "# Check if the mode of the entire 'REGION' column is available to use as a fallback\n",
    "overall_mode = sdoh_2017_cleaned['REGION'].mode()\n",
    "\n",
    "if not overall_mode.empty:\n",
    "    # Impute missing values using the overall mode\n",
    "    sdoh_2017_cleaned['REGION'].fillna(overall_mode.iloc[0], inplace=True)\n",
    "    # Verify that there are no more missing values\n",
    "    missing_values_after_overall_mode = sdoh_2017_cleaned['REGION'].isnull().sum()\n",
    "    print(\"Missing values in 'REGION' after overall mode imputation:\", missing_values_after_overall_mode)\n",
    "else:\n",
    "    print(\"No available mode to use for imputation.\")\n"
   ]
  },
  {
   "cell_type": "code",
   "execution_count": 36,
   "id": "502794ab",
   "metadata": {},
   "outputs": [],
   "source": [
    "# Drop 'STATE', 'COUNTY' columns\n",
    "sdoh_2017_cleaned = sdoh_2017_cleaned.drop(columns=['STATE', 'COUNTY'], axis=1)"
   ]
  },
  {
   "cell_type": "code",
   "execution_count": 37,
   "id": "24468c47",
   "metadata": {},
   "outputs": [
    {
     "data": {
      "text/html": [
       "<div>\n",
       "<style scoped>\n",
       "    .dataframe tbody tr th:only-of-type {\n",
       "        vertical-align: middle;\n",
       "    }\n",
       "\n",
       "    .dataframe tbody tr th {\n",
       "        vertical-align: top;\n",
       "    }\n",
       "\n",
       "    .dataframe thead th {\n",
       "        text-align: right;\n",
       "    }\n",
       "</style>\n",
       "<table border=\"1\" class=\"dataframe\">\n",
       "  <thead>\n",
       "    <tr style=\"text-align: right;\">\n",
       "      <th></th>\n",
       "      <th>YEAR</th>\n",
       "      <th>REGION</th>\n",
       "      <th>TERRITORY</th>\n",
       "      <th>ACS_TOT_POP_WT</th>\n",
       "      <th>ACS_TOT_POP_US_ABOVE1</th>\n",
       "      <th>ACS_TOT_POP_ABOVE5</th>\n",
       "      <th>ACS_TOT_POP_ABOVE15</th>\n",
       "      <th>ACS_TOT_POP_ABOVE16</th>\n",
       "      <th>ACS_TOT_POP_16_19</th>\n",
       "      <th>ACS_TOT_POP_ABOVE25</th>\n",
       "      <th>...</th>\n",
       "      <th>POS_HOSP_PSYCH_RATE</th>\n",
       "      <th>POS_TOT_HOSP_AMBULANCE</th>\n",
       "      <th>POS_HOSP_AMBULANCE_RATE</th>\n",
       "      <th>POS_TOT_HOSP_CHEMO</th>\n",
       "      <th>POS_HOSP_CHEMO_RATE</th>\n",
       "      <th>POS_TOT_HOSP_ED</th>\n",
       "      <th>POS_HOSP_ED_RATE</th>\n",
       "      <th>POS_PCT_HOSP_FOR_PROFIT</th>\n",
       "      <th>POS_PCT_HOSP_NON_PROFIT</th>\n",
       "      <th>POS_PCT_HOSP_GOV</th>\n",
       "    </tr>\n",
       "  </thead>\n",
       "  <tbody>\n",
       "    <tr>\n",
       "      <th>0</th>\n",
       "      <td>2017</td>\n",
       "      <td>South</td>\n",
       "      <td>0</td>\n",
       "      <td>55036.0</td>\n",
       "      <td>54293.0</td>\n",
       "      <td>51898.0</td>\n",
       "      <td>44109.0</td>\n",
       "      <td>42974.0</td>\n",
       "      <td>2746.0</td>\n",
       "      <td>36757.0</td>\n",
       "      <td>...</td>\n",
       "      <td>0.0</td>\n",
       "      <td>0.0</td>\n",
       "      <td>0.00</td>\n",
       "      <td>0.0</td>\n",
       "      <td>0.00</td>\n",
       "      <td>1.0</td>\n",
       "      <td>0.02</td>\n",
       "      <td>50.00</td>\n",
       "      <td>38.89</td>\n",
       "      <td>11.11</td>\n",
       "    </tr>\n",
       "    <tr>\n",
       "      <th>1</th>\n",
       "      <td>2017</td>\n",
       "      <td>South</td>\n",
       "      <td>0</td>\n",
       "      <td>203360.0</td>\n",
       "      <td>201089.0</td>\n",
       "      <td>191854.0</td>\n",
       "      <td>166364.0</td>\n",
       "      <td>163759.0</td>\n",
       "      <td>10031.0</td>\n",
       "      <td>143022.0</td>\n",
       "      <td>...</td>\n",
       "      <td>0.0</td>\n",
       "      <td>0.0</td>\n",
       "      <td>0.00</td>\n",
       "      <td>0.0</td>\n",
       "      <td>0.00</td>\n",
       "      <td>3.0</td>\n",
       "      <td>0.01</td>\n",
       "      <td>63.49</td>\n",
       "      <td>36.51</td>\n",
       "      <td>0.00</td>\n",
       "    </tr>\n",
       "    <tr>\n",
       "      <th>2</th>\n",
       "      <td>2017</td>\n",
       "      <td>South</td>\n",
       "      <td>0</td>\n",
       "      <td>26201.0</td>\n",
       "      <td>25925.0</td>\n",
       "      <td>24765.0</td>\n",
       "      <td>21627.0</td>\n",
       "      <td>21241.0</td>\n",
       "      <td>1071.0</td>\n",
       "      <td>18434.0</td>\n",
       "      <td>...</td>\n",
       "      <td>0.0</td>\n",
       "      <td>0.0</td>\n",
       "      <td>0.00</td>\n",
       "      <td>0.0</td>\n",
       "      <td>0.00</td>\n",
       "      <td>1.0</td>\n",
       "      <td>0.04</td>\n",
       "      <td>73.33</td>\n",
       "      <td>20.00</td>\n",
       "      <td>6.67</td>\n",
       "    </tr>\n",
       "    <tr>\n",
       "      <th>3</th>\n",
       "      <td>2017</td>\n",
       "      <td>South</td>\n",
       "      <td>0</td>\n",
       "      <td>22580.0</td>\n",
       "      <td>22224.0</td>\n",
       "      <td>21301.0</td>\n",
       "      <td>18743.0</td>\n",
       "      <td>18415.0</td>\n",
       "      <td>1137.0</td>\n",
       "      <td>15859.0</td>\n",
       "      <td>...</td>\n",
       "      <td>0.0</td>\n",
       "      <td>1.0</td>\n",
       "      <td>0.04</td>\n",
       "      <td>1.0</td>\n",
       "      <td>0.04</td>\n",
       "      <td>1.0</td>\n",
       "      <td>0.04</td>\n",
       "      <td>27.27</td>\n",
       "      <td>45.45</td>\n",
       "      <td>27.27</td>\n",
       "    </tr>\n",
       "    <tr>\n",
       "      <th>4</th>\n",
       "      <td>2017</td>\n",
       "      <td>South</td>\n",
       "      <td>0</td>\n",
       "      <td>57667.0</td>\n",
       "      <td>57088.0</td>\n",
       "      <td>54171.0</td>\n",
       "      <td>46501.0</td>\n",
       "      <td>45924.0</td>\n",
       "      <td>3224.0</td>\n",
       "      <td>39475.0</td>\n",
       "      <td>...</td>\n",
       "      <td>0.0</td>\n",
       "      <td>0.0</td>\n",
       "      <td>0.00</td>\n",
       "      <td>0.0</td>\n",
       "      <td>0.00</td>\n",
       "      <td>1.0</td>\n",
       "      <td>0.02</td>\n",
       "      <td>60.00</td>\n",
       "      <td>40.00</td>\n",
       "      <td>0.00</td>\n",
       "    </tr>\n",
       "  </tbody>\n",
       "</table>\n",
       "<p>5 rows × 842 columns</p>\n",
       "</div>"
      ],
      "text/plain": [
       "   YEAR REGION  TERRITORY  ACS_TOT_POP_WT  ACS_TOT_POP_US_ABOVE1  \\\n",
       "0  2017  South          0         55036.0                54293.0   \n",
       "1  2017  South          0        203360.0               201089.0   \n",
       "2  2017  South          0         26201.0                25925.0   \n",
       "3  2017  South          0         22580.0                22224.0   \n",
       "4  2017  South          0         57667.0                57088.0   \n",
       "\n",
       "   ACS_TOT_POP_ABOVE5  ACS_TOT_POP_ABOVE15  ACS_TOT_POP_ABOVE16  \\\n",
       "0             51898.0              44109.0              42974.0   \n",
       "1            191854.0             166364.0             163759.0   \n",
       "2             24765.0              21627.0              21241.0   \n",
       "3             21301.0              18743.0              18415.0   \n",
       "4             54171.0              46501.0              45924.0   \n",
       "\n",
       "   ACS_TOT_POP_16_19  ACS_TOT_POP_ABOVE25  ...  POS_HOSP_PSYCH_RATE  \\\n",
       "0             2746.0              36757.0  ...                  0.0   \n",
       "1            10031.0             143022.0  ...                  0.0   \n",
       "2             1071.0              18434.0  ...                  0.0   \n",
       "3             1137.0              15859.0  ...                  0.0   \n",
       "4             3224.0              39475.0  ...                  0.0   \n",
       "\n",
       "   POS_TOT_HOSP_AMBULANCE  POS_HOSP_AMBULANCE_RATE  POS_TOT_HOSP_CHEMO  \\\n",
       "0                     0.0                     0.00                 0.0   \n",
       "1                     0.0                     0.00                 0.0   \n",
       "2                     0.0                     0.00                 0.0   \n",
       "3                     1.0                     0.04                 1.0   \n",
       "4                     0.0                     0.00                 0.0   \n",
       "\n",
       "   POS_HOSP_CHEMO_RATE  POS_TOT_HOSP_ED  POS_HOSP_ED_RATE  \\\n",
       "0                 0.00              1.0              0.02   \n",
       "1                 0.00              3.0              0.01   \n",
       "2                 0.00              1.0              0.04   \n",
       "3                 0.04              1.0              0.04   \n",
       "4                 0.00              1.0              0.02   \n",
       "\n",
       "   POS_PCT_HOSP_FOR_PROFIT  POS_PCT_HOSP_NON_PROFIT  POS_PCT_HOSP_GOV  \n",
       "0                    50.00                    38.89             11.11  \n",
       "1                    63.49                    36.51              0.00  \n",
       "2                    73.33                    20.00              6.67  \n",
       "3                    27.27                    45.45             27.27  \n",
       "4                    60.00                    40.00              0.00  \n",
       "\n",
       "[5 rows x 842 columns]"
      ]
     },
     "execution_count": 37,
     "metadata": {},
     "output_type": "execute_result"
    }
   ],
   "source": [
    "sdoh_2017_cleaned.head()"
   ]
  },
  {
   "cell_type": "code",
   "execution_count": 39,
   "id": "0d5c40a0",
   "metadata": {},
   "outputs": [],
   "source": [
    "# Export DF to csv\n",
    "\n",
    "sdoh_2017_cleaned.to_csv('sdoh_FINAL.csv', index=False)"
   ]
  },
  {
   "cell_type": "code",
   "execution_count": null,
   "id": "579fb47a",
   "metadata": {},
   "outputs": [],
   "source": []
  }
 ],
 "metadata": {
  "kernelspec": {
   "display_name": "Python 3 (ipykernel)",
   "language": "python",
   "name": "python3"
  },
  "language_info": {
   "codemirror_mode": {
    "name": "ipython",
    "version": 3
   },
   "file_extension": ".py",
   "mimetype": "text/x-python",
   "name": "python",
   "nbconvert_exporter": "python",
   "pygments_lexer": "ipython3",
   "version": "3.11.4"
  }
 },
 "nbformat": 4,
 "nbformat_minor": 5
}
